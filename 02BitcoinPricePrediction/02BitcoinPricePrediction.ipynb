{
  "nbformat": 4,
  "nbformat_minor": 0,
  "metadata": {
    "colab": {
      "provenance": [],
      "collapsed_sections": []
    },
    "kernelspec": {
      "name": "python3",
      "display_name": "Python 3"
    },
    "language_info": {
      "name": "python"
    }
  },
  "cells": [
    {
      "cell_type": "markdown",
      "source": [
        "# Data Preprocessing"
      ],
      "metadata": {
        "id": "9bV2p-DtuB3P"
      }
    },
    {
      "cell_type": "markdown",
      "source": [
        "## Importing libraries"
      ],
      "metadata": {
        "id": "JiUWs9AKuED2"
      }
    },
    {
      "cell_type": "code",
      "execution_count": 2,
      "metadata": {
        "id": "X4Dp_p4Qt5nP"
      },
      "outputs": [],
      "source": [
        "import numpy as np\n",
        "import matplotlib.pyplot as plt\n",
        "import pandas as pd\n",
        "\n",
        "from datetime import datetime"
      ]
    },
    {
      "cell_type": "markdown",
      "source": [
        "#Importing the Datasets"
      ],
      "metadata": {
        "id": "20F0AsdwuNjy"
      }
    },
    {
      "cell_type": "code",
      "source": [
        "dataset_training = pd.read_csv('bitcoin_price_Training.csv')\n",
        "# dataset_test = pd.read_csv('bitcoin_price_Test.csv')\n",
        "\n",
        "dataset_training['Date'] = pd.to_datetime(dataset_training['Date'])\n",
        "data = dataset_training.set_index('Date')\n",
        "\n",
        "data_open = data[['Open']]\n",
        "# inserting new column with yesterday's consumption values\n",
        "data_open.loc[:,'Yesterday'] = data_open.loc[:,'Open'].shift()\n",
        "# inserting another column with difference between yesterday and day before yesterday's consumption values.\n",
        "data_open.loc[:,'Yesterday_Diff'] = data_open.loc[:,'Yesterday'].diff()\n",
        "# dropping NAs\n",
        "data_open = data_open.dropna()\n",
        "print(data_open)\n"
      ],
      "metadata": {
        "id": "G2O4c4VAuTrh",
        "colab": {
          "base_uri": "https://localhost:8080/"
        },
        "outputId": "31e4e316-286b-4310-d664-c7847cf32219"
      },
      "execution_count": 12,
      "outputs": [
        {
          "output_type": "stream",
          "name": "stdout",
          "text": [
            "               Open  Yesterday  Yesterday_Diff\n",
            "Date                                          \n",
            "2017-07-29  2807.02    2724.39          -38.85\n",
            "2017-07-28  2679.73    2807.02           82.63\n",
            "2017-07-27  2538.71    2679.73         -127.29\n",
            "2017-07-26  2577.77    2538.71         -141.02\n",
            "2017-07-25  2757.50    2577.77           39.06\n",
            "...             ...        ...             ...\n",
            "2013-05-02   116.38     106.25            8.15\n",
            "2013-05-01   139.00     116.38           10.13\n",
            "2013-04-30   144.00     139.00           22.62\n",
            "2013-04-29   134.44     144.00            5.00\n",
            "2013-04-28   135.30     134.44           -9.56\n",
            "\n",
            "[1554 rows x 3 columns]\n"
          ]
        },
        {
          "output_type": "stream",
          "name": "stderr",
          "text": [
            "/usr/local/lib/python3.7/dist-packages/pandas/core/indexing.py:1667: SettingWithCopyWarning: \n",
            "A value is trying to be set on a copy of a slice from a DataFrame.\n",
            "Try using .loc[row_indexer,col_indexer] = value instead\n",
            "\n",
            "See the caveats in the documentation: https://pandas.pydata.org/pandas-docs/stable/user_guide/indexing.html#returning-a-view-versus-a-copy\n",
            "  self.obj[key] = value\n"
          ]
        }
      ]
    },
    {
      "cell_type": "markdown",
      "source": [
        "## Regression metrics"
      ],
      "metadata": {
        "id": "ntt-Q_O1z21M"
      }
    },
    {
      "cell_type": "code",
      "source": [
        "import sklearn.metrics as metrics\n",
        "def regression_results(y_true, y_pred):\n",
        "    # Regression metrics\n",
        "    explained_variance=metrics.explained_variance_score(y_true, y_pred)\n",
        "    mean_absolute_error=metrics.mean_absolute_error(y_true, y_pred) \n",
        "    mse=metrics.mean_squared_error(y_true, y_pred) \n",
        "    mean_squared_log_error=metrics.mean_squared_log_error(y_true, y_pred)\n",
        "    median_absolute_error=metrics.median_absolute_error(y_true, y_pred)\n",
        "    r2=metrics.r2_score(y_true, y_pred)\n",
        "    print('explained_variance: ', round(explained_variance,4))    \n",
        "    print('mean_squared_log_error: ', round(mean_squared_log_error,4))\n",
        "    print('r2: ', round(r2,4))\n",
        "    print('MAE: ', round(mean_absolute_error,4))\n",
        "    print('MSE: ', round(mse,4))\n",
        "    print('RMSE: ', round(np.sqrt(mse),4))"
      ],
      "metadata": {
        "id": "Sp_IjRIrz7GQ"
      },
      "execution_count": 14,
      "outputs": []
    },
    {
      "cell_type": "code",
      "source": [
        "X_train = data_open[:'2016'].drop(['Open'], axis = 1)\n",
        "y_train = data_open.loc[:'2016', 'Open']\n",
        "X_test = data_open['2017'].drop(['Open'], axis = 1)\n",
        "y_test = data_open.loc['2017', 'Open']\n",
        "print(X_train)\n",
        "print(y_train)"
      ],
      "metadata": {
        "colab": {
          "base_uri": "https://localhost:8080/"
        },
        "id": "SvHwMAPOvEDw",
        "outputId": "ed947913-54fc-4f13-d85d-06a0200fd9df"
      },
      "execution_count": 32,
      "outputs": [
        {
          "output_type": "stream",
          "name": "stdout",
          "text": [
            "DatetimeIndex(['2016-01-01', '2015-12-31', '2015-12-30', '2015-12-29',\n",
            "               '2015-12-28', '2015-12-27', '2015-12-26', '2015-12-25',\n",
            "               '2015-12-24', '2015-12-23',\n",
            "               ...\n",
            "               '2013-05-07', '2013-05-06', '2013-05-05', '2013-05-04',\n",
            "               '2013-05-03', '2013-05-02', '2013-05-01', '2013-04-30',\n",
            "               '2013-04-29', '2013-04-28'],\n",
            "              dtype='datetime64[ns]', name='Date', length=979, freq=None)\n",
            "Date\n",
            "2016-01-01    430.72\n",
            "2015-12-31    425.88\n",
            "2015-12-30    433.30\n",
            "2015-12-29    422.10\n",
            "2015-12-28    423.34\n",
            "               ...  \n",
            "2013-05-02    116.38\n",
            "2013-05-01    139.00\n",
            "2013-04-30    144.00\n",
            "2013-04-29    134.44\n",
            "2013-04-28    135.30\n",
            "Name: Open, Length: 979, dtype: float64\n"
          ]
        },
        {
          "output_type": "stream",
          "name": "stderr",
          "text": [
            "/usr/local/lib/python3.7/dist-packages/ipykernel_launcher.py:3: FutureWarning: Indexing a DataFrame with a datetimelike index using a single string to slice the rows, like `frame[string]`, is deprecated and will be removed in a future version. Use `frame.loc[string]` instead.\n",
            "  This is separate from the ipykernel package so we can avoid doing imports until\n"
          ]
        }
      ]
    },
    {
      "cell_type": "markdown",
      "source": [
        "## Training different types of regression algorithms"
      ],
      "metadata": {
        "id": "tKKoRdoQrxLZ"
      }
    },
    {
      "cell_type": "markdown",
      "source": [
        "### Ridge regression"
      ],
      "metadata": {
        "id": "lIwpqFhQr-jn"
      }
    },
    {
      "cell_type": "code",
      "source": [
        "from sklearn import linear_model\n",
        "reg = linear_model.Ridge(alpha=10)\n",
        "reg.fit(X_train,y_train)\n",
        "\n",
        "# explained_variance:  0.9853\n",
        "# mean_squared_log_error:  0.0019\n",
        "# r2:  0.9853\n",
        "# MAE:  51.6452\n",
        "# MSE:  6802.4182\n",
        "# RMSE:  82.4768"
      ],
      "metadata": {
        "colab": {
          "base_uri": "https://localhost:8080/"
        },
        "id": "Rec1hkgksht8",
        "outputId": "38c58835-94b3-42f1-bde8-99b38e33c498"
      },
      "execution_count": 43,
      "outputs": [
        {
          "output_type": "execute_result",
          "data": {
            "text/plain": [
              "Ridge(alpha=10)"
            ]
          },
          "metadata": {},
          "execution_count": 43
        }
      ]
    },
    {
      "cell_type": "markdown",
      "source": [
        "### LARS Lasso"
      ],
      "metadata": {
        "id": "Tdfv7HVV1P_K"
      }
    },
    {
      "cell_type": "code",
      "source": [
        "from sklearn import linear_model\n",
        "reg = linear_model.LassoLars(alpha=.1, normalize=False)\n",
        "reg.fit(X_train,y_train)\n",
        "\n",
        "# explained_variance:  0.9853\n",
        "# mean_squared_log_error:  0.0019\n",
        "# r2:  0.9853\n",
        "# MAE:  51.6452\n",
        "# MSE:  6802.4182\n",
        "# RMSE:  82.4768"
      ],
      "metadata": {
        "colab": {
          "base_uri": "https://localhost:8080/"
        },
        "id": "BHCFjJLv1oGq",
        "outputId": "72e70e59-7982-435a-afe1-d8a7243ead0a"
      },
      "execution_count": 37,
      "outputs": [
        {
          "output_type": "execute_result",
          "data": {
            "text/plain": [
              "LassoLars(alpha=0.1, normalize=False)"
            ]
          },
          "metadata": {},
          "execution_count": 37
        }
      ]
    },
    {
      "cell_type": "markdown",
      "source": [
        "## Visualizeing Results"
      ],
      "metadata": {
        "id": "GVbHsT5S2jdd"
      }
    },
    {
      "cell_type": "code",
      "source": [
        "# plt.scatter(X_train.index, y_train, color = 'red')\n",
        "# plt.plot(X_train.index, reg.predict(X_train), color = 'blue')\n",
        "plt.scatter(X_test.index, y_test, color = 'red')\n",
        "plt.plot(X_test.index, reg.predict(X_test), color = 'blue')\n",
        "plt.title('Bittcoin price prediction')\n",
        "plt.xlabel('Date')\n",
        "plt.ylabel('Price')\n",
        "plt.show()"
      ],
      "metadata": {
        "colab": {
          "base_uri": "https://localhost:8080/",
          "height": 295
        },
        "id": "ANUhhOwI2mt2",
        "outputId": "720715db-507e-4bcf-873b-9f4c7173ba8a"
      },
      "execution_count": 41,
      "outputs": [
        {
          "output_type": "display_data",
          "data": {
            "text/plain": [
              "<Figure size 432x288 with 1 Axes>"
            ],
            "image/png": "[encoded data removed]"
          },
          "metadata": {
            "needs_background": "light"
          }
        }
      ]
    },
    {
      "cell_type": "markdown",
      "source": [
        "### Printing the regression results"
      ],
      "metadata": {
        "id": "FZtEzDkv8cSa"
      }
    },
    {
      "cell_type": "code",
      "source": [
        "y_true = y_test.values\n",
        "y_pred = reg.predict(X_test)\n",
        "regression_results(y_true, y_pred)"
      ],
      "metadata": {
        "colab": {
          "base_uri": "https://localhost:8080/"
        },
        "id": "bXoro63oYyLr",
        "outputId": "a6f3a22b-6fe0-4151-933d-7f5b8894850d"
      },
      "execution_count": 44,
      "outputs": [
        {
          "output_type": "stream",
          "name": "stdout",
          "text": [
            "explained_variance:  0.9853\n",
            "mean_squared_log_error:  0.0019\n",
            "r2:  0.9853\n",
            "MAE:  51.6452\n",
            "MSE:  6802.4182\n",
            "RMSE:  82.4768\n"
          ]
        }
      ]
    }
  ]
}