{
  "nbformat": 4,
  "nbformat_minor": 0,
  "metadata": {
    "colab": {
      "provenance": [],
      "collapsed_sections": []
    },
    "kernelspec": {
      "name": "python3",
      "display_name": "Python 3"
    },
    "language_info": {
      "name": "python"
    }
  },
  "cells": [
    {
      "cell_type": "markdown",
      "source": [
        "# Data Preprocessing"
      ],
      "metadata": {
        "id": "9bV2p-DtuB3P"
      }
    },
    {
      "cell_type": "markdown",
      "source": [
        "## Importing libraries"
      ],
      "metadata": {
        "id": "JiUWs9AKuED2"
      }
    },
    {
      "cell_type": "code",
      "execution_count": 1,
      "metadata": {
        "id": "X4Dp_p4Qt5nP"
      },
      "outputs": [],
      "source": [
        "import numpy as np\n",
        "import matplotlib.pyplot as plt\n",
        "import pandas as pd\n",
        "\n",
        "from datetime import datetime"
      ]
    },
    {
      "cell_type": "markdown",
      "source": [
        "#Importing the Datasets"
      ],
      "metadata": {
        "id": "20F0AsdwuNjy"
      }
    },
    {
      "cell_type": "code",
      "source": [
        "dataset_training = pd.read_csv('bitcoin_price_Training.csv')\n",
        "# dataset_test = pd.read_csv('bitcoin_price_Test.csv')\n",
        "\n",
        "dataset_training['Date'] = pd.to_datetime(dataset_training['Date'])\n",
        "data = dataset_training.set_index('Date')\n",
        "\n",
        "data_open = data[['Open']]\n",
        "# inserting new column with yesterday's consumption values\n",
        "data_open.loc[:,'Yesterday'] = data_open.loc[:,'Open'].shift()\n",
        "# inserting another column with difference between yesterday and day before yesterday's consumption values.\n",
        "data_open.loc[:,'Yesterday_Diff'] = data_open.loc[:,'Yesterday'].diff()\n",
        "# dropping NAs\n",
        "data_open = data_open.dropna()\n"
      ],
      "metadata": {
        "id": "G2O4c4VAuTrh",
        "colab": {
          "base_uri": "https://localhost:8080/"
        },
        "outputId": "70c9a6b3-ac38-452a-e4cb-77767dea6809"
      },
      "execution_count": 2,
      "outputs": [
        {
          "output_type": "stream",
          "name": "stdout",
          "text": [
            "               Open  Yesterday  Yesterday_Diff\n",
            "Date                                          \n",
            "2017-08-04   566.33     578.28            3.25\n",
            "2017-08-03   548.66     566.33          -11.95\n",
            "2017-08-02   606.40     548.66          -17.67\n",
            "2017-08-01   624.60     606.40           57.74\n",
            "2017-07-31  2763.24     624.60           18.20\n",
            "...             ...        ...             ...\n",
            "2013-05-02   116.38     106.25            8.15\n",
            "2013-05-01   139.00     116.38           10.13\n",
            "2013-04-30   144.00     139.00           22.62\n",
            "2013-04-29   134.44     144.00            5.00\n",
            "2013-04-28   135.30     134.44           -9.56\n",
            "\n",
            "[1560 rows x 3 columns]\n"
          ]
        },
        {
          "output_type": "stream",
          "name": "stderr",
          "text": [
            "/usr/local/lib/python3.7/dist-packages/pandas/core/indexing.py:1667: SettingWithCopyWarning: \n",
            "A value is trying to be set on a copy of a slice from a DataFrame.\n",
            "Try using .loc[row_indexer,col_indexer] = value instead\n",
            "\n",
            "See the caveats in the documentation: https://pandas.pydata.org/pandas-docs/stable/user_guide/indexing.html#returning-a-view-versus-a-copy\n",
            "  self.obj[key] = value\n"
          ]
        }
      ]
    },
    {
      "cell_type": "markdown",
      "source": [
        "## Regression metrics"
      ],
      "metadata": {
        "id": "ntt-Q_O1z21M"
      }
    },
    {
      "cell_type": "code",
      "source": [
        "import sklearn.metrics as metrics\n",
        "def regression_results(y_true, y_pred):\n",
        "    # Regression metrics\n",
        "    explained_variance=metrics.explained_variance_score(y_true, y_pred)\n",
        "    mean_absolute_error=metrics.mean_absolute_error(y_true, y_pred) \n",
        "    mse=metrics.mean_squared_error(y_true, y_pred) \n",
        "    mean_squared_log_error=metrics.mean_squared_log_error(y_true, y_pred)\n",
        "    median_absolute_error=metrics.median_absolute_error(y_true, y_pred)\n",
        "    r2=metrics.r2_score(y_true, y_pred)\n",
        "    print('explained_variance: ', round(explained_variance,4))    \n",
        "    print('mean_squared_log_error: ', round(mean_squared_log_error,4))\n",
        "    print('r2: ', round(r2,4))\n",
        "    print('MAE: ', round(mean_absolute_error,4))\n",
        "    print('MSE: ', round(mse,4))\n",
        "    print('RMSE: ', round(np.sqrt(mse),4))"
      ],
      "metadata": {
        "id": "Sp_IjRIrz7GQ"
      },
      "execution_count": 3,
      "outputs": []
    },
    {
      "cell_type": "code",
      "source": [
        "X_train = data_open[:'2016'].drop(['Open'], axis = 1)\n",
        "y_train = data_open.loc[:'2016', 'Open']\n",
        "X_test = data_open['2017'].drop(['Open'], axis = 1)\n",
        "y_test = data_open.loc['2017', 'Open']"
      ],
      "metadata": {
        "colab": {
          "base_uri": "https://localhost:8080/"
        },
        "id": "SvHwMAPOvEDw",
        "outputId": "95c64dfc-1bde-4141-f9d9-7ef1b03cfc63"
      },
      "execution_count": 4,
      "outputs": [
        {
          "output_type": "stream",
          "name": "stderr",
          "text": [
            "/usr/local/lib/python3.7/dist-packages/ipykernel_launcher.py:3: FutureWarning: Indexing a DataFrame with a datetimelike index using a single string to slice the rows, like `frame[string]`, is deprecated and will be removed in a future version. Use `frame.loc[string]` instead.\n",
            "  This is separate from the ipykernel package so we can avoid doing imports until\n"
          ]
        }
      ]
    },
    {
      "cell_type": "markdown",
      "source": [
        "# Training different types of regression algorithms"
      ],
      "metadata": {
        "id": "tKKoRdoQrxLZ"
      }
    },
    {
      "cell_type": "markdown",
      "source": [
        "## Linear Regressions"
      ],
      "metadata": {
        "id": "5JWDpaUoKNvS"
      }
    },
    {
      "cell_type": "markdown",
      "source": [
        "### Ridge regression"
      ],
      "metadata": {
        "id": "lIwpqFhQr-jn"
      }
    },
    {
      "cell_type": "code",
      "source": [
        "from sklearn import linear_model\n",
        "reg = linear_model.Ridge(alpha=10,random_state=0)\n",
        "reg.fit(X_train,y_train)\n",
        "\n",
        "# explained_variance:  0.9853\n",
        "# mean_squared_log_error:  0.0019\n",
        "# r2:  0.9853\n",
        "# MAE:  51.6452\n",
        "# MSE:  6802.4182\n",
        "# RMSE:  82.4768"
      ],
      "metadata": {
        "id": "Rec1hkgksht8"
      },
      "execution_count": null,
      "outputs": []
    },
    {
      "cell_type": "markdown",
      "source": [
        "### LARS Lasso"
      ],
      "metadata": {
        "id": "Tdfv7HVV1P_K"
      }
    },
    {
      "cell_type": "code",
      "source": [
        "from sklearn import linear_model\n",
        "reg = linear_model.LassoLars(alpha=.1, normalize=False,random_state=0)\n",
        "reg.fit(X_train,y_train)\n",
        "\n",
        "# explained_variance:  0.9853\n",
        "# mean_squared_log_error:  0.0019\n",
        "# r2:  0.9853\n",
        "# MAE:  51.6452\n",
        "# MSE:  6802.4182\n",
        "# RMSE:  82.4768"
      ],
      "metadata": {
        "colab": {
          "base_uri": "https://localhost:8080/"
        },
        "id": "BHCFjJLv1oGq",
        "outputId": "6992d2ed-ef8e-4f7a-b7b7-8a7ea2fa081c"
      },
      "execution_count": null,
      "outputs": [
        {
          "output_type": "execute_result",
          "data": {
            "text/plain": [
              "LassoLars(alpha=0.1, normalize=False, random_state=0)"
            ]
          },
          "metadata": {},
          "execution_count": 16
        }
      ]
    },
    {
      "cell_type": "markdown",
      "source": [
        "### Baesian Regression"
      ],
      "metadata": {
        "id": "qDkFi7qpd6qW"
      }
    },
    {
      "cell_type": "code",
      "source": [
        "from sklearn import linear_model\n",
        "reg = linear_model.BayesianRidge()\n",
        "reg.fit(X_train,y_train)\n",
        "\n",
        "# explained_variance:  0.9423\n",
        "# mean_squared_log_error:  0.0122\n",
        "# r2:  0.9421\n",
        "# MAE:  60.7912\n",
        "# MSE:  27853.2625\n",
        "# RMSE:  166.893"
      ],
      "metadata": {
        "colab": {
          "base_uri": "https://localhost:8080/"
        },
        "id": "qGormZ1Ud9Df",
        "outputId": "98202cad-e1a5-4e15-cd62-171edee77556"
      },
      "execution_count": null,
      "outputs": [
        {
          "output_type": "execute_result",
          "data": {
            "text/plain": [
              "BayesianRidge()"
            ]
          },
          "metadata": {},
          "execution_count": 18
        }
      ]
    },
    {
      "cell_type": "markdown",
      "source": [
        "### Generalized Linear Regression"
      ],
      "metadata": {
        "id": "E-iJDPG5IbG9"
      }
    },
    {
      "cell_type": "code",
      "source": [
        "from sklearn.linear_model import TweedieRegressor\n",
        "reg = TweedieRegressor()\n",
        "reg.fit(X_train,y_train)\n",
        "\n",
        "# explained_variance:  0.9423\n",
        "# mean_squared_log_error:  0.0122\n",
        "# r2:  0.9421\n",
        "# MAE:  60.792\n",
        "# MSE:  27853.2559\n",
        "# RMSE:  166.8929"
      ],
      "metadata": {
        "colab": {
          "base_uri": "https://localhost:8080/"
        },
        "id": "SzOC5ZFJIhRc",
        "outputId": "17eff896-3f08-4c60-aae0-97bf8625dcea"
      },
      "execution_count": null,
      "outputs": [
        {
          "output_type": "execute_result",
          "data": {
            "text/plain": [
              "TweedieRegressor()"
            ]
          },
          "metadata": {},
          "execution_count": 23
        }
      ]
    },
    {
      "cell_type": "markdown",
      "source": [
        "### Quantile Regressor"
      ],
      "metadata": {
        "id": "ywVIfnFmJSoU"
      }
    },
    {
      "cell_type": "code",
      "source": [
        "from sklearn.linear_model import QuantileRegressor\n",
        "reg = QuantileRegressor(quantile=0.8)\n",
        "reg.fit(X_train,y_train)\n",
        "\n",
        "# explained_variance:  0.9402\n",
        "# mean_squared_log_error:  0.0124\n",
        "# r2:  0.9383\n",
        "# MAE:  75.5046\n",
        "# MSE:  29669.645\n",
        "# RMSE:  172.2488"
      ],
      "metadata": {
        "colab": {
          "base_uri": "https://localhost:8080/"
        },
        "id": "WoJAj5Z1JRhU",
        "outputId": "fb25dd62-3d15-41e2-de96-b221ab0cf99a"
      },
      "execution_count": null,
      "outputs": [
        {
          "output_type": "execute_result",
          "data": {
            "text/plain": [
              "QuantileRegressor(quantile=0.8)"
            ]
          },
          "metadata": {},
          "execution_count": 26
        }
      ]
    },
    {
      "cell_type": "markdown",
      "source": [
        "## Kernel Ridge Regression"
      ],
      "metadata": {
        "id": "U5ROS6yyKHOx"
      }
    },
    {
      "cell_type": "code",
      "source": [
        "from sklearn.kernel_ridge import KernelRidge\n",
        "reg = KernelRidge(alpha=1.0)\n",
        "reg.fit(X_train,y_train)\n",
        "\n",
        "# explained_variance:  0.9421\n",
        "# mean_squared_log_error:  0.0122\n",
        "# r2:  0.942\n",
        "# MAE:  61.5111\n",
        "# MSE:  27889.9999\n",
        "# RMSE:  167.003"
      ],
      "metadata": {
        "colab": {
          "base_uri": "https://localhost:8080/"
        },
        "id": "HKjwNmMKKGdP",
        "outputId": "c8e7598e-5666-4ae8-f81b-5fb5e6946f4a"
      },
      "execution_count": null,
      "outputs": [
        {
          "output_type": "execute_result",
          "data": {
            "text/plain": [
              "KernelRidge(alpha=1.0)"
            ]
          },
          "metadata": {},
          "execution_count": 29
        }
      ]
    },
    {
      "cell_type": "markdown",
      "source": [
        "## SVM Regression"
      ],
      "metadata": {
        "id": "XfQRQox6dd1M"
      }
    },
    {
      "cell_type": "code",
      "source": [
        "from sklearn import svm\n",
        "reg = svm.SVR(C=10, epsilon=0.1, gamma=1e-07, kernel='linear')\n",
        "# reg = svm.SVR()\n",
        "reg.fit(X_train,y_train)\n",
        "\n",
        "# explained_variance:  0.9415\n",
        "# mean_squared_log_error:  0.0121\n",
        "# r2:  0.9415\n",
        "# MAE:  62.8916\n",
        "# MSE:  28147.5131\n",
        "# RMSE:  167.7722\n",
        "\n",
        "# explained_variance:  -0.1065\n",
        "# mean_squared_log_error:  1.7702\n",
        "# r2:  -2.9554\n",
        "# MAE:  1170.6019\n",
        "# MSE:  1902520.6998\n",
        "# RMSE:  1379.3189"
      ],
      "metadata": {
        "colab": {
          "base_uri": "https://localhost:8080/"
        },
        "id": "GBVhMcpUdhi-",
        "outputId": "298c72c9-0694-453c-a76d-0f2ed4153862"
      },
      "execution_count": 12,
      "outputs": [
        {
          "output_type": "execute_result",
          "data": {
            "text/plain": [
              "SVR()"
            ]
          },
          "metadata": {},
          "execution_count": 12
        }
      ]
    },
    {
      "cell_type": "markdown",
      "source": [
        "## Stochastic Gradient Descent Regressor"
      ],
      "metadata": {
        "id": "TA0h1wn5K24X"
      }
    },
    {
      "cell_type": "code",
      "source": [
        "from sklearn.linear_model import SGDRegressor\n",
        "from sklearn.pipeline import make_pipeline\n",
        "from sklearn.preprocessing import StandardScaler\n",
        "\n",
        "reg = make_pipeline(StandardScaler(), SGDRegressor(max_iter=1000, tol=1e-3))\n",
        "reg.fit(X_train,y_train)\n",
        "\n",
        "# explained_variance:  0.9423\n",
        "# mean_squared_log_error:  0.0121\n",
        "# r2:  0.9421\n",
        "# MAE:  60.8137\n",
        "# MSE:  27841.7084\n",
        "# RMSE:  166.8583"
      ],
      "metadata": {
        "colab": {
          "base_uri": "https://localhost:8080/"
        },
        "id": "wQw4IyimK14I",
        "outputId": "2a0eaa9b-965e-4a73-c5fe-48440444b7d7"
      },
      "execution_count": null,
      "outputs": [
        {
          "output_type": "execute_result",
          "data": {
            "text/plain": [
              "Pipeline(steps=[('standardscaler', StandardScaler()),\n",
              "                ('sgdregressor', SGDRegressor())])"
            ]
          },
          "metadata": {},
          "execution_count": 35
        }
      ]
    },
    {
      "cell_type": "markdown",
      "source": [
        "## KNeighborsRegressor"
      ],
      "metadata": {
        "id": "QsBeupmJLxay"
      }
    },
    {
      "cell_type": "code",
      "source": [
        "from sklearn.neighbors import KNeighborsRegressor\n",
        "reg = KNeighborsRegressor(n_neighbors=2)\n",
        "reg.fit(X_train,y_train)\n",
        "\n",
        "# explained_variance:  0.1373\n",
        "# mean_squared_log_error:  0.2756\n",
        "# r2:  -0.5916\n",
        "# MAE:  596.2553\n",
        "# MSE:  765555.8131\n",
        "# RMSE:  874.9605"
      ],
      "metadata": {
        "colab": {
          "base_uri": "https://localhost:8080/"
        },
        "id": "5tYVgqyrLwwT",
        "outputId": "2a34332a-91ff-484f-aae4-ba5bfe250dbc"
      },
      "execution_count": 14,
      "outputs": [
        {
          "output_type": "execute_result",
          "data": {
            "text/plain": [
              "KNeighborsRegressor(n_neighbors=2)"
            ]
          },
          "metadata": {},
          "execution_count": 14
        }
      ]
    },
    {
      "cell_type": "markdown",
      "source": [
        "## GaussianProcessRegressor"
      ],
      "metadata": {
        "id": "zYpyv140Mz1K"
      }
    },
    {
      "cell_type": "code",
      "source": [
        "from sklearn.gaussian_process import GaussianProcessRegressor\n",
        "from sklearn.gaussian_process.kernels import DotProduct, WhiteKernel\n",
        "kernel = DotProduct() + WhiteKernel()\n",
        "reg = GaussianProcessRegressor(kernel=kernel, random_state=0)\n",
        "reg.fit(X_train,y_train)\n",
        "\n",
        "# explained_variance:  0.9422\n",
        "# mean_squared_log_error:  0.0121\n",
        "# r2:  0.9421\n",
        "# MAE:  61.1569\n",
        "# MSE:  27866.069\n",
        "# RMSE:  166.9313"
      ],
      "metadata": {
        "colab": {
          "base_uri": "https://localhost:8080/"
        },
        "id": "_iSxx1jqMzDn",
        "outputId": "f41e3078-0482-49a2-9e7b-59f13317603a"
      },
      "execution_count": null,
      "outputs": [
        {
          "output_type": "execute_result",
          "data": {
            "text/plain": [
              "GaussianProcessRegressor(kernel=DotProduct(sigma_0=1) + WhiteKernel(noise_level=1),\n",
              "                         random_state=0)"
            ]
          },
          "metadata": {},
          "execution_count": 53
        }
      ]
    },
    {
      "cell_type": "markdown",
      "source": [
        "## PLSRegression"
      ],
      "metadata": {
        "id": "k-ofMtJQNTRc"
      }
    },
    {
      "cell_type": "code",
      "source": [
        "from sklearn.cross_decomposition import PLSRegression\n",
        "reg = PLSRegression(n_components=2)\n",
        "reg.fit(X_train,y_train)\n",
        "\n",
        "# explained_variance:  0.9423\n",
        "# mean_squared_log_error:  0.0122\n",
        "# r2:  0.9421\n",
        "# MAE:  60.7948\n",
        "# MSE:  27853.2362\n",
        "# RMSE:  166.8929"
      ],
      "metadata": {
        "colab": {
          "base_uri": "https://localhost:8080/"
        },
        "id": "joWWwVkqNR4F",
        "outputId": "271e1f0c-b933-47e6-afd8-c62b727ad28c"
      },
      "execution_count": null,
      "outputs": [
        {
          "output_type": "execute_result",
          "data": {
            "text/plain": [
              "PLSRegression()"
            ]
          },
          "metadata": {},
          "execution_count": 68
        }
      ]
    },
    {
      "cell_type": "markdown",
      "source": [
        "## DecisionTreeRegressor"
      ],
      "metadata": {
        "id": "XvhWeCeTN4Qt"
      }
    },
    {
      "cell_type": "code",
      "source": [
        "from sklearn import tree\n",
        "reg = tree.DecisionTreeRegressor()\n",
        "reg.fit(X_train,y_train)\n",
        "\n",
        "# explained_variance:  0.1481\n",
        "# mean_squared_log_error:  0.2725\n",
        "# r2:  -0.5791\n",
        "# MAE:  595.6048\n",
        "# MSE:  759522.1504\n",
        "# RMSE:  871.5057"
      ],
      "metadata": {
        "colab": {
          "base_uri": "https://localhost:8080/"
        },
        "id": "WGXJFxwLN0fs",
        "outputId": "bdf9a061-94b0-4266-86d9-fbbe88004950"
      },
      "execution_count": 16,
      "outputs": [
        {
          "output_type": "execute_result",
          "data": {
            "text/plain": [
              "DecisionTreeRegressor()"
            ]
          },
          "metadata": {},
          "execution_count": 16
        }
      ]
    },
    {
      "cell_type": "code",
      "source": [
        "from sklearn.neural_network import MLPRegressor\n",
        "reg = MLPRegressor(random_state=1, max_iter=500)\n",
        "reg.fit(X_train,y_train)\n",
        "\n",
        "# explained_variance:  0.9415\n",
        "# mean_squared_log_error:  0.0122\n",
        "# r2:  0.9414\n",
        "# MAE:  62.0192\n",
        "# MSE:  28170.3172\n",
        "# RMSE:  167.8402"
      ],
      "metadata": {
        "colab": {
          "base_uri": "https://localhost:8080/"
        },
        "id": "qbsE3l-ZWSwb",
        "outputId": "79062942-1708-45ba-d502-758b00fc9f82"
      },
      "execution_count": 8,
      "outputs": [
        {
          "output_type": "execute_result",
          "data": {
            "text/plain": [
              "MLPRegressor(max_iter=500, random_state=1)"
            ]
          },
          "metadata": {},
          "execution_count": 8
        }
      ]
    },
    {
      "cell_type": "markdown",
      "source": [
        "# Optimizing parameters"
      ],
      "metadata": {
        "id": "DXXjcJdVimn0"
      }
    },
    {
      "cell_type": "code",
      "source": [
        "from sklearn.metrics import make_scorer\n",
        "def rmse(actual, predict):\n",
        "  predict = np.array(predict)\n",
        "  actual = np.array(actual)\n",
        "  distance = predict - actual\n",
        "  square_distance = distance ** 2\n",
        "  mean_square_distance = square_distance.mean()\n",
        "  score = np.sqrt(mean_square_distance)\n",
        "  return score\n",
        "rmse_score = make_scorer(rmse, greater_is_better = False)"
      ],
      "metadata": {
        "id": "UvP7kmL4iuAS"
      },
      "execution_count": 20,
      "outputs": []
    },
    {
      "cell_type": "code",
      "source": [
        "from sklearn.model_selection import GridSearchCV\n",
        "\n",
        "# param_search = { \n",
        "#     'n_estimators': [20, 50, 100],\n",
        "#     'max_features': ['auto', 'sqrt', 'log2'],\n",
        "#     'max_depth' : [i for i in range(5,15)]\n",
        "# }\n",
        "# SVR Params\n",
        "param_svr = {'kernel': ('linear', 'rbf','poly'), 'C':[1.5, 10],'gamma': [1e-7, 1e-4],'epsilon':[0.1,0.2,0.5,0.3]}\n",
        "param_tree={\"splitter\":[\"best\",\"random\"],\n",
        "            \"max_depth\" : [1,3,5,7,9,11,12],\n",
        "           \"min_samples_leaf\":[1,2,3,4,5,6,7,8,9,10],\n",
        "           \"min_weight_fraction_leaf\":[0.1,0.2,0.3,0.4,0.5,0.6,0.7,0.8,0.9],\n",
        "           \"max_features\":[\"auto\",\"log2\",\"sqrt\",None],\n",
        "           \"max_leaf_nodes\":[None,10,20,30,40,50,60,70,80,90] }\n",
        "\n",
        "\n",
        "grid_search = GridSearchCV(estimator = reg,\n",
        "                           param_grid = param_tree,\n",
        "                           scoring = rmse_score,\n",
        "                           cv = 5)\n",
        "grid_search.fit(X_train, y_train)\n",
        "best_score = grid_search.best_score_\n",
        "best_parameters = grid_search.best_params_\n",
        "print(\"Best Accuracy: {:.2f} %\".format(best_score*100))\n",
        "print(\"Best Parameters:\", best_parameters)\n",
        "\n"
      ],
      "metadata": {
        "colab": {
          "base_uri": "https://localhost:8080/"
        },
        "id": "Nscng75V6Bdn",
        "outputId": "ec632481-677e-4e6b-88ba-1f6d9d4e18e2"
      },
      "execution_count": 21,
      "outputs": [
        {
          "output_type": "stream",
          "name": "stderr",
          "text": [
            "/usr/local/lib/python3.7/dist-packages/sklearn/model_selection/_validation.py:372: FitFailedWarning: \n",
            "112000 fits failed out of a total of 252000.\n",
            "The score on these train-test partitions for these parameters will be set to nan.\n",
            "If these failures are not expected, you can try to debug them by setting error_score='raise'.\n",
            "\n",
            "Below are more details about the failures:\n",
            "--------------------------------------------------------------------------------\n",
            "112000 fits failed with the following error:\n",
            "Traceback (most recent call last):\n",
            "  File \"/usr/local/lib/python3.7/dist-packages/sklearn/model_selection/_validation.py\", line 680, in _fit_and_score\n",
            "    estimator.fit(X_train, y_train, **fit_params)\n",
            "  File \"/usr/local/lib/python3.7/dist-packages/sklearn/tree/_classes.py\", line 1320, in fit\n",
            "    X_idx_sorted=X_idx_sorted,\n",
            "  File \"/usr/local/lib/python3.7/dist-packages/sklearn/tree/_classes.py\", line 304, in fit\n",
            "    raise ValueError(\"min_weight_fraction_leaf must in [0, 0.5]\")\n",
            "ValueError: min_weight_fraction_leaf must in [0, 0.5]\n",
            "\n",
            "  warnings.warn(some_fits_failed_message, FitFailedWarning)\n"
          ]
        },
        {
          "output_type": "stream",
          "name": "stdout",
          "text": [
            "Best Accuracy: -9233.82 %\n",
            "Best Parameters: {'max_depth': 5, 'max_features': 'auto', 'max_leaf_nodes': None, 'min_samples_leaf': 1, 'min_weight_fraction_leaf': 0.1, 'splitter': 'best'}\n"
          ]
        },
        {
          "output_type": "stream",
          "name": "stderr",
          "text": [
            "/usr/local/lib/python3.7/dist-packages/sklearn/model_selection/_search.py:972: UserWarning: One or more of the test scores are non-finite: [-146.06531709 -158.78218898 -144.64621846 ...           nan           nan\n",
            "           nan]\n",
            "  category=UserWarning,\n"
          ]
        }
      ]
    },
    {
      "cell_type": "markdown",
      "source": [
        "# Visualizeing Results"
      ],
      "metadata": {
        "id": "GVbHsT5S2jdd"
      }
    },
    {
      "cell_type": "code",
      "source": [
        "# plt.scatter(X_train.index, y_train, color = 'red')\n",
        "# plt.plot(X_train.index, reg.predict(X_train), color = 'blue')\n",
        "plt.scatter(X_test.index, y_test, color = 'red')\n",
        "plt.plot(X_test.index, reg.predict(X_test), color = 'blue')\n",
        "plt.title('Bittcoin price prediction')\n",
        "plt.xlabel('Date')\n",
        "plt.ylabel('Price')\n",
        "plt.show()"
      ],
      "metadata": {
        "colab": {
          "base_uri": "https://localhost:8080/",
          "height": 295
        },
        "id": "ANUhhOwI2mt2",
        "outputId": "3bcb45bd-bb0d-48b5-8b97-edadaee791e4"
      },
      "execution_count": 17,
      "outputs": [
        {
          "output_type": "display_data",
          "data": {
            "text/plain": [
              "<Figure size 432x288 with 1 Axes>"
            ],
            "image/png": "[encoded data removed]"
          },
          "metadata": {
            "needs_background": "light"
          }
        }
      ]
    },
    {
      "cell_type": "markdown",
      "source": [
        "### Printing the regression results"
      ],
      "metadata": {
        "id": "FZtEzDkv8cSa"
      }
    },
    {
      "cell_type": "code",
      "source": [
        "y_true = y_test.values\n",
        "y_pred = reg.predict(X_test)\n",
        "regression_results(y_true, y_pred)"
      ],
      "metadata": {
        "colab": {
          "base_uri": "https://localhost:8080/"
        },
        "id": "bXoro63oYyLr",
        "outputId": "11acde74-52a7-45f1-9858-60f6cdba3e58"
      },
      "execution_count": 18,
      "outputs": [
        {
          "output_type": "stream",
          "name": "stdout",
          "text": [
            "explained_variance:  0.1515\n",
            "mean_squared_log_error:  0.2602\n",
            "r2:  -0.5367\n",
            "MAE:  580.2776\n",
            "MSE:  739121.6615\n",
            "RMSE:  859.7219\n"
          ]
        }
      ]
    }
  ]
}