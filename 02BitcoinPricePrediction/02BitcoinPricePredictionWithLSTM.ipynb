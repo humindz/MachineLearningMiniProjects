{
  "nbformat": 4,
  "nbformat_minor": 0,
  "metadata": {
    "colab": {
      "provenance": [],
      "collapsed_sections": [
        "ZRRSOJeVjEWV"
      ]
    },
    "kernelspec": {
      "name": "python3",
      "display_name": "Python 3"
    }
  },
  "cells": [
    {
      "cell_type": "markdown",
      "metadata": {
        "id": "xpAuMVCwfWs8"
      },
      "source": [
        "# Recurrent Neural Network"
      ]
    },
    {
      "cell_type": "markdown",
      "metadata": {
        "id": "nxJfRe4bfYVA"
      },
      "source": [
        "## Part 1 - Data Preprocessing"
      ]
    },
    {
      "cell_type": "markdown",
      "metadata": {
        "id": "ir9zwETrfbrp"
      },
      "source": [
        "### Importing the libraries"
      ]
    },
    {
      "cell_type": "code",
      "metadata": {
        "id": "ZT1f24vHffuf"
      },
      "source": [
        "import numpy as np\n",
        "import matplotlib.pyplot as plt\n",
        "import pandas as pd"
      ],
      "execution_count": 58,
      "outputs": []
    },
    {
      "cell_type": "markdown",
      "metadata": {
        "id": "nQ47JAxrgmaL"
      },
      "source": [
        "### Importing the data set and splitting it into train & test set"
      ]
    },
    {
      "cell_type": "code",
      "metadata": {
        "id": "1xiv3pJOgqY3"
      },
      "source": [
        "dataset = pd.read_csv('bitcoin_price_Training.csv')\n",
        "training_set = dataset.iloc[:, 1:2].values\n",
        "test_set = training_set[1:300]\n",
        "training_set = training_set[300:len(training_set)]"
      ],
      "execution_count": 59,
      "outputs": []
    },
    {
      "cell_type": "markdown",
      "metadata": {
        "id": "HT8_2UJegtG5"
      },
      "source": [
        "### Feature Scaling"
      ]
    },
    {
      "cell_type": "code",
      "metadata": {
        "id": "OTrF2kR7gx9x"
      },
      "source": [
        "from sklearn.preprocessing import MinMaxScaler\n",
        "sc = MinMaxScaler(feature_range = (0, 1))\n",
        "training_set_scaled = sc.fit_transform(training_set)"
      ],
      "execution_count": 60,
      "outputs": []
    },
    {
      "cell_type": "markdown",
      "metadata": {
        "id": "JyYgYocqhNUg"
      },
      "source": [
        "### Creating a data structure with 60 timesteps and 1 output"
      ]
    },
    {
      "cell_type": "code",
      "metadata": {
        "id": "iofU21B0i6ST"
      },
      "source": [
        "X_train = []\n",
        "y_train = []\n",
        "for i in range(60, 1262):\n",
        "    X_train.append(training_set_scaled[i-60:i, 0])\n",
        "    y_train.append(training_set_scaled[i, 0])\n",
        "X_train, y_train = np.array(X_train), np.array(y_train)"
      ],
      "execution_count": 61,
      "outputs": []
    },
    {
      "cell_type": "markdown",
      "metadata": {
        "id": "D8yaN7Zvi95l"
      },
      "source": [
        "### Reshaping"
      ]
    },
    {
      "cell_type": "code",
      "metadata": {
        "id": "FOXqJHmNjBkz"
      },
      "source": [
        "X_train = np.reshape(X_train, (X_train.shape[0], X_train.shape[1], 1))"
      ],
      "execution_count": 62,
      "outputs": []
    },
    {
      "cell_type": "markdown",
      "metadata": {
        "id": "ZRRSOJeVjEWV"
      },
      "source": [
        "## Part 2 - Building and Training the RNN"
      ]
    },
    {
      "cell_type": "markdown",
      "metadata": {
        "id": "k4XV88JMjHXG"
      },
      "source": [
        "### Importing the Keras libraries and packages"
      ]
    },
    {
      "cell_type": "code",
      "metadata": {
        "id": "9JRnqsxEjKsD"
      },
      "source": [
        "from keras.models import Sequential\n",
        "from keras.layers import Dense\n",
        "from keras.layers import LSTM\n",
        "from keras.layers import Dropout"
      ],
      "execution_count": 63,
      "outputs": []
    },
    {
      "cell_type": "markdown",
      "metadata": {
        "id": "FEIE-1s9jNzC"
      },
      "source": [
        "### Initialising the RNN"
      ]
    },
    {
      "cell_type": "code",
      "metadata": {
        "id": "1338dJ0UjRKH"
      },
      "source": [
        "regressor = Sequential()"
      ],
      "execution_count": 64,
      "outputs": []
    },
    {
      "cell_type": "markdown",
      "metadata": {
        "id": "62eg1OPGjT8z"
      },
      "source": [
        "### Adding the first LSTM layer and some Dropout regularisation"
      ]
    },
    {
      "cell_type": "code",
      "metadata": {
        "id": "2hIinyXUjbVU"
      },
      "source": [
        "regressor.add(LSTM(units = 50, return_sequences = True, input_shape = (X_train.shape[1], 1)))\n",
        "regressor.add(Dropout(0.2))"
      ],
      "execution_count": 65,
      "outputs": []
    },
    {
      "cell_type": "markdown",
      "metadata": {
        "id": "3XBIYLyOjlMx"
      },
      "source": [
        "### Adding a second LSTM layer and some Dropout regularisation"
      ]
    },
    {
      "cell_type": "code",
      "metadata": {
        "id": "UG7nrVaSjuZ2"
      },
      "source": [
        "regressor.add(LSTM(units = 50, return_sequences = True))\n",
        "regressor.add(Dropout(0.2))"
      ],
      "execution_count": 66,
      "outputs": []
    },
    {
      "cell_type": "markdown",
      "metadata": {
        "id": "Ey3fHVnGj1cu"
      },
      "source": [
        "### Adding a third LSTM layer and some Dropout regularisation"
      ]
    },
    {
      "cell_type": "code",
      "metadata": {
        "id": "PuNi6PgFj7jO"
      },
      "source": [
        "regressor.add(LSTM(units = 50, return_sequences = True))\n",
        "regressor.add(Dropout(0.2))"
      ],
      "execution_count": 67,
      "outputs": []
    },
    {
      "cell_type": "markdown",
      "metadata": {
        "id": "SYTrtfTmj933"
      },
      "source": [
        "### Adding a fourth LSTM layer and some Dropout regularisation"
      ]
    },
    {
      "cell_type": "code",
      "metadata": {
        "id": "Jp4Ty8fRkBYV"
      },
      "source": [
        "regressor.add(LSTM(units = 50))\n",
        "regressor.add(Dropout(0.2))"
      ],
      "execution_count": 68,
      "outputs": []
    },
    {
      "cell_type": "markdown",
      "metadata": {
        "id": "9ABI6rOIkHhk"
      },
      "source": [
        "### Adding the output layer"
      ]
    },
    {
      "cell_type": "code",
      "metadata": {
        "id": "aM6R1z4WkME8"
      },
      "source": [
        "regressor.add(Dense(units = 1))"
      ],
      "execution_count": 69,
      "outputs": []
    },
    {
      "cell_type": "markdown",
      "metadata": {
        "id": "zLx4K7uUkPSh"
      },
      "source": [
        "### Compiling the RNN"
      ]
    },
    {
      "cell_type": "code",
      "metadata": {
        "id": "XTrhVN-tkbko"
      },
      "source": [
        "regressor.compile(optimizer = 'adam', loss = 'mean_squared_error')"
      ],
      "execution_count": 70,
      "outputs": []
    },
    {
      "cell_type": "markdown",
      "metadata": {
        "id": "-mPhwKGkkebi"
      },
      "source": [
        "### Fitting the RNN to the Training set"
      ]
    },
    {
      "cell_type": "code",
      "metadata": {
        "id": "I06Nkrz5kkb-",
        "colab": {
          "base_uri": "https://localhost:8080/"
        },
        "outputId": "447cb0a1-a140-472a-c88f-3747f7639ce9"
      },
      "source": [
        "regressor.fit(X_train, y_train, epochs = 100, batch_size = 32)"
      ],
      "execution_count": 71,
      "outputs": [
        {
          "output_type": "stream",
          "name": "stdout",
          "text": [
            "Epoch 1/100\n",
            "38/38 [==============================] - 9s 83ms/step - loss: 0.0186\n",
            "Epoch 2/100\n",
            "38/38 [==============================] - 3s 81ms/step - loss: 0.0083\n",
            "Epoch 3/100\n",
            "38/38 [==============================] - 3s 82ms/step - loss: 0.0058\n",
            "Epoch 4/100\n",
            "38/38 [==============================] - 3s 87ms/step - loss: 0.0055\n",
            "Epoch 5/100\n",
            "38/38 [==============================] - 3s 80ms/step - loss: 0.0049\n",
            "Epoch 6/100\n",
            "38/38 [==============================] - 3s 80ms/step - loss: 0.0042\n",
            "Epoch 7/100\n",
            "38/38 [==============================] - 3s 81ms/step - loss: 0.0034\n",
            "Epoch 8/100\n",
            "38/38 [==============================] - 3s 79ms/step - loss: 0.0031\n",
            "Epoch 9/100\n",
            "38/38 [==============================] - 3s 80ms/step - loss: 0.0029\n",
            "Epoch 10/100\n",
            "38/38 [==============================] - 3s 81ms/step - loss: 0.0030\n",
            "Epoch 11/100\n",
            "38/38 [==============================] - 3s 80ms/step - loss: 0.0025\n",
            "Epoch 12/100\n",
            "38/38 [==============================] - 3s 82ms/step - loss: 0.0029\n",
            "Epoch 13/100\n",
            "38/38 [==============================] - 3s 79ms/step - loss: 0.0025\n",
            "Epoch 14/100\n",
            "38/38 [==============================] - 3s 78ms/step - loss: 0.0026\n",
            "Epoch 15/100\n",
            "38/38 [==============================] - 3s 80ms/step - loss: 0.0025\n",
            "Epoch 16/100\n",
            "38/38 [==============================] - 3s 80ms/step - loss: 0.0030\n",
            "Epoch 17/100\n",
            "38/38 [==============================] - 4s 105ms/step - loss: 0.0025\n",
            "Epoch 18/100\n",
            "38/38 [==============================] - 3s 83ms/step - loss: 0.0023\n",
            "Epoch 19/100\n",
            "38/38 [==============================] - 3s 77ms/step - loss: 0.0027\n",
            "Epoch 20/100\n",
            "38/38 [==============================] - 3s 80ms/step - loss: 0.0026\n",
            "Epoch 21/100\n",
            "38/38 [==============================] - 3s 80ms/step - loss: 0.0024\n",
            "Epoch 22/100\n",
            "38/38 [==============================] - 3s 82ms/step - loss: 0.0023\n",
            "Epoch 23/100\n",
            "38/38 [==============================] - 3s 80ms/step - loss: 0.0023\n",
            "Epoch 24/100\n",
            "38/38 [==============================] - 3s 81ms/step - loss: 0.0025\n",
            "Epoch 25/100\n",
            "38/38 [==============================] - 4s 94ms/step - loss: 0.0024\n",
            "Epoch 26/100\n",
            "38/38 [==============================] - 4s 94ms/step - loss: 0.0022\n",
            "Epoch 27/100\n",
            "38/38 [==============================] - 3s 82ms/step - loss: 0.0024\n",
            "Epoch 28/100\n",
            "38/38 [==============================] - 3s 78ms/step - loss: 0.0026\n",
            "Epoch 29/100\n",
            "38/38 [==============================] - 3s 79ms/step - loss: 0.0024\n",
            "Epoch 30/100\n",
            "38/38 [==============================] - 3s 80ms/step - loss: 0.0023\n",
            "Epoch 31/100\n",
            "38/38 [==============================] - 3s 79ms/step - loss: 0.0021\n",
            "Epoch 32/100\n",
            "38/38 [==============================] - 3s 78ms/step - loss: 0.0020\n",
            "Epoch 33/100\n",
            "38/38 [==============================] - 3s 79ms/step - loss: 0.0021\n",
            "Epoch 34/100\n",
            "38/38 [==============================] - 3s 79ms/step - loss: 0.0023\n",
            "Epoch 35/100\n",
            "38/38 [==============================] - 3s 77ms/step - loss: 0.0017\n",
            "Epoch 36/100\n",
            "38/38 [==============================] - 3s 80ms/step - loss: 0.0019\n",
            "Epoch 37/100\n",
            "38/38 [==============================] - 3s 78ms/step - loss: 0.0017\n",
            "Epoch 38/100\n",
            "38/38 [==============================] - 3s 78ms/step - loss: 0.0020\n",
            "Epoch 39/100\n",
            "38/38 [==============================] - 3s 79ms/step - loss: 0.0020\n",
            "Epoch 40/100\n",
            "38/38 [==============================] - 3s 79ms/step - loss: 0.0021\n",
            "Epoch 41/100\n",
            "38/38 [==============================] - 3s 80ms/step - loss: 0.0020\n",
            "Epoch 42/100\n",
            "38/38 [==============================] - 3s 79ms/step - loss: 0.0019\n",
            "Epoch 43/100\n",
            "38/38 [==============================] - 3s 78ms/step - loss: 0.0016\n",
            "Epoch 44/100\n",
            "38/38 [==============================] - 3s 80ms/step - loss: 0.0018\n",
            "Epoch 45/100\n",
            "38/38 [==============================] - 3s 80ms/step - loss: 0.0017\n",
            "Epoch 46/100\n",
            "38/38 [==============================] - 3s 79ms/step - loss: 0.0019\n",
            "Epoch 47/100\n",
            "38/38 [==============================] - 3s 79ms/step - loss: 0.0019\n",
            "Epoch 48/100\n",
            "38/38 [==============================] - 3s 78ms/step - loss: 0.0019\n",
            "Epoch 49/100\n",
            "38/38 [==============================] - 3s 78ms/step - loss: 0.0015\n",
            "Epoch 50/100\n",
            "38/38 [==============================] - 3s 76ms/step - loss: 0.0016\n",
            "Epoch 51/100\n",
            "38/38 [==============================] - 3s 80ms/step - loss: 0.0017\n",
            "Epoch 52/100\n",
            "38/38 [==============================] - 3s 76ms/step - loss: 0.0015\n",
            "Epoch 53/100\n",
            "38/38 [==============================] - 3s 79ms/step - loss: 0.0015\n",
            "Epoch 54/100\n",
            "38/38 [==============================] - 3s 79ms/step - loss: 0.0018\n",
            "Epoch 55/100\n",
            "38/38 [==============================] - 3s 77ms/step - loss: 0.0017\n",
            "Epoch 56/100\n",
            "38/38 [==============================] - 3s 79ms/step - loss: 0.0017\n",
            "Epoch 57/100\n",
            "38/38 [==============================] - 3s 80ms/step - loss: 0.0015\n",
            "Epoch 58/100\n",
            "38/38 [==============================] - 3s 78ms/step - loss: 0.0016\n",
            "Epoch 59/100\n",
            "38/38 [==============================] - 3s 79ms/step - loss: 0.0015\n",
            "Epoch 60/100\n",
            "38/38 [==============================] - 3s 76ms/step - loss: 0.0015\n",
            "Epoch 61/100\n",
            "38/38 [==============================] - 3s 79ms/step - loss: 0.0015\n",
            "Epoch 62/100\n",
            "38/38 [==============================] - 3s 77ms/step - loss: 0.0014\n",
            "Epoch 63/100\n",
            "38/38 [==============================] - 3s 79ms/step - loss: 0.0014\n",
            "Epoch 64/100\n",
            "38/38 [==============================] - 3s 78ms/step - loss: 0.0015\n",
            "Epoch 65/100\n",
            "38/38 [==============================] - 3s 79ms/step - loss: 0.0015\n",
            "Epoch 66/100\n",
            "38/38 [==============================] - 3s 80ms/step - loss: 0.0015\n",
            "Epoch 67/100\n",
            "38/38 [==============================] - 3s 77ms/step - loss: 0.0016\n",
            "Epoch 68/100\n",
            "38/38 [==============================] - 3s 79ms/step - loss: 0.0016\n",
            "Epoch 69/100\n",
            "38/38 [==============================] - 3s 80ms/step - loss: 0.0014\n",
            "Epoch 70/100\n",
            "38/38 [==============================] - 3s 80ms/step - loss: 0.0014\n",
            "Epoch 71/100\n",
            "38/38 [==============================] - 3s 78ms/step - loss: 0.0015\n",
            "Epoch 72/100\n",
            "38/38 [==============================] - 3s 79ms/step - loss: 0.0013\n",
            "Epoch 73/100\n",
            "38/38 [==============================] - 3s 79ms/step - loss: 0.0013\n",
            "Epoch 74/100\n",
            "38/38 [==============================] - 3s 78ms/step - loss: 0.0013\n",
            "Epoch 75/100\n",
            "38/38 [==============================] - 3s 78ms/step - loss: 0.0013\n",
            "Epoch 76/100\n",
            "38/38 [==============================] - 3s 78ms/step - loss: 0.0013\n",
            "Epoch 77/100\n",
            "38/38 [==============================] - 3s 78ms/step - loss: 0.0012\n",
            "Epoch 78/100\n",
            "38/38 [==============================] - 3s 79ms/step - loss: 0.0013\n",
            "Epoch 79/100\n",
            "38/38 [==============================] - 3s 79ms/step - loss: 0.0011\n",
            "Epoch 80/100\n",
            "38/38 [==============================] - 3s 79ms/step - loss: 0.0012\n",
            "Epoch 81/100\n",
            "38/38 [==============================] - 3s 80ms/step - loss: 0.0012\n",
            "Epoch 82/100\n",
            "38/38 [==============================] - 3s 79ms/step - loss: 0.0013\n",
            "Epoch 83/100\n",
            "38/38 [==============================] - 3s 79ms/step - loss: 0.0013\n",
            "Epoch 84/100\n",
            "38/38 [==============================] - 3s 81ms/step - loss: 0.0013\n",
            "Epoch 85/100\n",
            "38/38 [==============================] - 3s 79ms/step - loss: 0.0013\n",
            "Epoch 86/100\n",
            "38/38 [==============================] - 3s 80ms/step - loss: 0.0014\n",
            "Epoch 87/100\n",
            "38/38 [==============================] - 3s 79ms/step - loss: 0.0012\n",
            "Epoch 88/100\n",
            "38/38 [==============================] - 3s 78ms/step - loss: 0.0011\n",
            "Epoch 89/100\n",
            "38/38 [==============================] - 3s 79ms/step - loss: 0.0012\n",
            "Epoch 90/100\n",
            "38/38 [==============================] - 3s 79ms/step - loss: 0.0011\n",
            "Epoch 91/100\n",
            "38/38 [==============================] - 3s 79ms/step - loss: 0.0012\n",
            "Epoch 92/100\n",
            "38/38 [==============================] - 3s 79ms/step - loss: 0.0011\n",
            "Epoch 93/100\n",
            "38/38 [==============================] - 3s 80ms/step - loss: 0.0012\n",
            "Epoch 94/100\n",
            "38/38 [==============================] - 3s 78ms/step - loss: 0.0016\n",
            "Epoch 95/100\n",
            "38/38 [==============================] - 3s 79ms/step - loss: 0.0011\n",
            "Epoch 96/100\n",
            "38/38 [==============================] - 3s 79ms/step - loss: 0.0012\n",
            "Epoch 97/100\n",
            "38/38 [==============================] - 3s 79ms/step - loss: 0.0010\n",
            "Epoch 98/100\n",
            "38/38 [==============================] - 4s 102ms/step - loss: 0.0012\n",
            "Epoch 99/100\n",
            "38/38 [==============================] - 3s 83ms/step - loss: 0.0013\n",
            "Epoch 100/100\n",
            "38/38 [==============================] - 3s 79ms/step - loss: 0.0011\n"
          ]
        },
        {
          "output_type": "execute_result",
          "data": {
            "text/plain": [
              "<keras.callbacks.History at 0x7f08b2808190>"
            ]
          },
          "metadata": {},
          "execution_count": 71
        }
      ]
    },
    {
      "cell_type": "markdown",
      "metadata": {
        "id": "4hRau_lIkrE8"
      },
      "source": [
        "## Part 3 - Making the predictions and visualising the results"
      ]
    },
    {
      "cell_type": "markdown",
      "metadata": {
        "id": "GrvrLblxkz42"
      },
      "source": [
        "### Getting the predicted stock price of for the Test set"
      ]
    },
    {
      "cell_type": "code",
      "metadata": {
        "id": "emikTvUpk3Ck",
        "colab": {
          "base_uri": "https://localhost:8080/"
        },
        "outputId": "e44bd465-f399-40c9-e6bf-28b9a99a4681"
      },
      "source": [
        "real_stock_price = test_set\n",
        "\n",
        "inputs = test_set\n",
        "inputs = sc.transform(inputs)\n",
        "X_test = []\n",
        "for i in range(60, 300):\n",
        "    X_test.append(inputs[i-60:i, 0])\n",
        "X_test = np.array(X_test)\n",
        "X_test = np.reshape(X_test, (X_test.shape[0], X_test.shape[1], 1))\n",
        "predicted_stock_price = regressor.predict(X_test)\n",
        "predicted_stock_price = sc.inverse_transform(predicted_stock_price)\n"
      ],
      "execution_count": 72,
      "outputs": [
        {
          "output_type": "stream",
          "name": "stdout",
          "text": [
            "8/8 [==============================] - 1s 21ms/step\n"
          ]
        }
      ]
    },
    {
      "cell_type": "code",
      "source": [
        "# Shifting the predicted values, and addig some 0-es to match up the real data\n",
        "temp_stack = np.zeros((60,1))\n",
        "ts_flat = temp_stack.flatten()\n",
        "psp_flat = predicted_stock_price.flatten()\n",
        "temp = np.concatenate([ts_flat, psp_flat])\n",
        "temp = np.reshape(temp, (len(temp), 1))\n",
        "predicted_stock_price = temp"
      ],
      "metadata": {
        "id": "wUir3d5a8kuA"
      },
      "execution_count": 73,
      "outputs": []
    },
    {
      "cell_type": "markdown",
      "metadata": {
        "id": "iFTNs3YHk6FQ"
      },
      "source": [
        "### Visualising the results"
      ]
    },
    {
      "cell_type": "code",
      "metadata": {
        "id": "8OUI8U49k9tH",
        "colab": {
          "base_uri": "https://localhost:8080/",
          "height": 295
        },
        "outputId": "e715d266-681e-4e78-f11d-38ca0ac2cd1e"
      },
      "source": [
        "plt.plot(real_stock_price, color = 'red', label = 'Real Bitcoin Stock Price')\n",
        "plt.plot(predicted_stock_price, color = 'blue', label = 'Predicted Bitcoin Stock Price')\n",
        "plt.title('Bitcoin Stock Price Prediction')\n",
        "plt.xlabel('Time')\n",
        "plt.ylabel('Bitcoin Stock Price')\n",
        "plt.legend()\n",
        "plt.show()"
      ],
      "execution_count": 74,
      "outputs": [
        {
          "output_type": "display_data",
          "data": {
            "text/plain": [
              "<Figure size 432x288 with 1 Axes>"
            ],
            "image/png": "[encoded data removed]"
          },
          "metadata": {
            "needs_background": "light"
          }
        }
      ]
    }
  ]
}