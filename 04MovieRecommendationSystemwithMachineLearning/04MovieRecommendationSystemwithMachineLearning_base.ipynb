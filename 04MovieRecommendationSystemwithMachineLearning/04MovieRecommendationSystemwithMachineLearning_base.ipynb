{
 "cells": [
  {
   "attachments": {},
   "cell_type": "markdown",
   "metadata": {},
   "source": [
    "Movie Recommendation System with Machine Learning"
   ]
  },
  {
   "attachments": {},
   "cell_type": "markdown",
   "metadata": {},
   "source": [
    "# Data Preprocessing"
   ]
  },
  {
   "attachments": {},
   "cell_type": "markdown",
   "metadata": {},
   "source": [
    "## Importing libraries"
   ]
  },
  {
   "cell_type": "code",
   "execution_count": 1,
   "metadata": {},
   "outputs": [],
   "source": [
    "import numpy as np\n",
    "import pandas as pd"
   ]
  },
  {
   "attachments": {},
   "cell_type": "markdown",
   "metadata": {},
   "source": [
    "## Loading datasets"
   ]
  },
  {
   "cell_type": "code",
   "execution_count": 5,
   "metadata": {},
   "outputs": [
    {
     "name": "stdout",
     "output_type": "stream",
     "text": [
      "Credits: (4803, 4)\n",
      "Movies Dataframe: (4803, 20)\n"
     ]
    }
   ],
   "source": [
    "credits = pd.read_csv(\"Dataset/tmdb_5000_credits.csv\")\n",
    "movies = pd.read_csv(\"Dataset/tmdb_5000_movies.csv\")\n",
    "print(\"Credits:\",credits.shape)\n",
    "print(\"Movies Dataframe:\",movies.shape)\n",
    "\n",
    "# Mergeing the datasets and dropping useless columns\n",
    "credits_column_renamed = credits.rename(index=str, columns={\"movie_id\": \"id\"})\n",
    "movies_merge = movies.merge(credits_column_renamed, on='id')\n",
    "movies_cleaned = movies_merge.drop(columns=['homepage', 'title_x', 'title_y', 'status','production_countries'])"
   ]
  },
  {
   "cell_type": "code",
   "execution_count": 141,
   "metadata": {},
   "outputs": [
    {
     "name": "stdout",
     "output_type": "stream",
     "text": [
      "bla\n",
      "4803\n"
     ]
    }
   ],
   "source": [
    "movies_cleaned_df = movies_cleaned['overview'].tolist()\n",
    "corpus = [\n",
    "    'This is the first document.',\n",
    "    'This document is the second document.',\n",
    "    'And this is the third one.',\n",
    "    'Is this the first document?',\n",
    "]\n",
    "# 2656\n",
    "movies_cleaned_df[2656] = \"bla\"\n",
    "movies_cleaned_df[4140] = \"bla\"\n",
    "movies_cleaned_df[4431] = \"bla\"\n",
    "print(movies_cleaned_df[4431])\n",
    "print(len(movies_cleaned_df))"
   ]
  },
  {
   "attachments": {},
   "cell_type": "markdown",
   "metadata": {},
   "source": [
    "# Training the model"
   ]
  },
  {
   "cell_type": "code",
   "execution_count": 143,
   "metadata": {},
   "outputs": [
    {
     "name": "stdout",
     "output_type": "stream",
     "text": [
      "  (0, 148)\t0.3091311403250014\n",
      "  (0, 1671)\t0.2781519888709605\n",
      "  (0, 431)\t0.2108476222845202\n",
      "  (0, 7056)\t0.26867652924731417\n",
      "  (0, 6448)\t0.25667782792456906\n",
      "  (0, 3583)\t0.21788257757629861\n",
      "  (0, 9394)\t0.24144219475319859\n",
      "  (0, 5908)\t0.17992707015426695\n",
      "  (0, 9718)\t0.24435395917916744\n",
      "  (0, 6544)\t0.2959108637414298\n",
      "  (0, 5973)\t0.2747332388389473\n",
      "  (0, 2635)\t0.2818968058308858\n",
      "  (0, 5659)\t0.2610479764815685\n",
      "  (0, 1515)\t0.20118856027389756\n",
      "  (0, 147)\t0.3091311403250014\n",
      "  (1, 1811)\t0.36793229072333994\n",
      "  (1, 7160)\t0.3031029042939378\n",
      "  (1, 2917)\t0.30082125582474917\n",
      "  (1, 9610)\t0.3355175975086389\n",
      "  (1, 2849)\t0.21556897928560054\n",
      "  (1, 2873)\t0.3232482593626707\n",
      "  (1, 4206)\t0.30803003793564465\n",
      "  (1, 5264)\t0.1333016217342793\n",
      "  (1, 1807)\t0.2104623271234315\n",
      "  (1, 2319)\t0.21892404835497967\n",
      "  :\t:\n",
      "  (4802, 671)\t0.15980375315748296\n",
      "  (4802, 2361)\t0.15010502652571864\n",
      "  (4802, 677)\t0.1348896650905315\n",
      "  (4802, 3737)\t0.14859055527694667\n",
      "  (4802, 3481)\t0.14340155530934393\n",
      "  (4802, 1253)\t0.1517317799962251\n",
      "  (4802, 8138)\t0.12006983014875616\n",
      "  (4802, 2755)\t0.11415766885192152\n",
      "  (4802, 6990)\t0.12818619387415678\n",
      "  (4802, 3239)\t0.16238922347130244\n",
      "  (4802, 5304)\t0.14458839172229582\n",
      "  (4802, 1225)\t0.28917678344459163\n",
      "  (4802, 8495)\t0.09380149874507987\n",
      "  (4802, 10328)\t0.09392244189669113\n",
      "  (4802, 120)\t0.13337519384175953\n",
      "  (4802, 9584)\t0.10877695477061998\n",
      "  (4802, 9066)\t0.08442386567407605\n",
      "  (4802, 2838)\t0.14227560971626285\n",
      "  (4802, 6367)\t0.07950988341697732\n",
      "  (4802, 10322)\t0.08349947113256301\n",
      "  (4802, 10344)\t0.1235202307747275\n",
      "  (4802, 6190)\t0.0660620349546619\n",
      "  (4802, 5156)\t0.10830486933954035\n",
      "  (4802, 10339)\t0.08047421680114124\n",
      "  (4802, 7726)\t0.16629792872798219\n",
      "(4803, 10418)\n",
      "[0.76163447 0.76159416 0.76159416 ... 0.76159416 0.76159416 0.76159416]\n"
     ]
    }
   ],
   "source": [
    "from sklearn.feature_extraction.text import TfidfVectorizer\n",
    "tfv = TfidfVectorizer(min_df=3,  max_features=None,\n",
    "            strip_accents='unicode', analyzer='word',token_pattern=r'\\w{1,}',\n",
    "            ngram_range=(1, 3),\n",
    "            stop_words = 'english')\n",
    "\n",
    "# Fitting the TF-IDF on the 'overview' text\n",
    "\n",
    "tfv_matrix = tfv.fit_transform(movies_cleaned_df)\n",
    "print(tfv_matrix)\n",
    "print(tfv_matrix.shape)\n",
    "\n",
    "from sklearn.metrics.pairwise import sigmoid_kernel\n",
    "\n",
    "# Compute the sigmoid kernel\n",
    "sig = sigmoid_kernel(tfv_matrix, tfv_matrix)\n",
    "print(sig[0])"
   ]
  },
  {
   "attachments": {},
   "cell_type": "markdown",
   "metadata": {},
   "source": [
    "## Reverse mapping of indices and movie titles"
   ]
  },
  {
   "cell_type": "code",
   "execution_count": null,
   "metadata": {},
   "outputs": [],
   "source": [
    "# Reverse mapping of indices and movie titles\n",
    "indices = pd.Series(movies_cleaned.index, index=movies_cleaned['original_title']).drop_duplicates()\n",
    "print(indices)\n",
    "print(indices['Newlyweds'])\n",
    "print(sig[1799])\n",
    "print(list(enumerate(sig[indices['Newlyweds']])))\n",
    "print(sorted(list(enumerate(sig[indices['Newlyweds']])), key=lambda x: x[1], reverse=True))\n",
    "\n"
   ]
  },
  {
   "cell_type": "code",
   "execution_count": 146,
   "metadata": {},
   "outputs": [],
   "source": [
    "def give_recomendations(title, sig=sig):\n",
    "    # Get the index corresponding to original_title\n",
    "    idx = indices[title]\n",
    "\n",
    "    # Get the pairwsie similarity scores\n",
    "    sig_scores = list(enumerate(sig[idx]))\n",
    "\n",
    "    # Sort the movies\n",
    "    sig_scores = sorted(sig_scores, key=lambda x: x[1], reverse=True)\n",
    "\n",
    "    # Scores of the 10 most similar movies\n",
    "    sig_scores = sig_scores[1:11]\n",
    "\n",
    "    # Movie indices\n",
    "    movie_indices = [i[0] for i in sig_scores]\n",
    "\n",
    "    # Top 10 most similar movies\n",
    "    return movies_cleaned['original_title'].iloc[movie_indices]"
   ]
  },
  {
   "cell_type": "code",
   "execution_count": 147,
   "metadata": {},
   "outputs": [
    {
     "name": "stdout",
     "output_type": "stream",
     "text": [
      "1341                Obitaemyy Ostrov\n",
      "634                       The Matrix\n",
      "3604                       Apollo 18\n",
      "2130                    The American\n",
      "775                        Supernova\n",
      "529                 Tears of the Sun\n",
      "151                          Beowulf\n",
      "311     The Adventures of Pluto Nash\n",
      "847                         Semi-Pro\n",
      "942                 The Book of Life\n",
      "Name: original_title, dtype: object\n"
     ]
    }
   ],
   "source": [
    "print(give_recomendations('Avatar'))"
   ]
  }
 ],
 "metadata": {
  "kernelspec": {
   "display_name": "Python 3",
   "language": "python",
   "name": "python3"
  },
  "language_info": {
   "codemirror_mode": {
    "name": "ipython",
    "version": 3
   },
   "file_extension": ".py",
   "mimetype": "text/x-python",
   "name": "python",
   "nbconvert_exporter": "python",
   "pygments_lexer": "ipython3",
   "version": "3.9.12 (main, Apr  4 2022, 05:22:27) [MSC v.1916 64 bit (AMD64)]"
  },
  "orig_nbformat": 4,
  "vscode": {
   "interpreter": {
    "hash": "ffb21c7f50ccbdd9cabeaacb722f478577479649672a627763d22c6e44daa1fc"
   }
  }
 },
 "nbformat": 4,
 "nbformat_minor": 2
}
