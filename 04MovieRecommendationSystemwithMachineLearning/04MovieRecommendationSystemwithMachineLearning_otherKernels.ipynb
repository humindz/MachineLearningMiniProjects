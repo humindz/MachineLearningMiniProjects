{
 "cells": [
  {
   "attachments": {},
   "cell_type": "markdown",
   "metadata": {},
   "source": [
    "Movie Recommendation System with Machine Learning"
   ]
  },
  {
   "attachments": {},
   "cell_type": "markdown",
   "metadata": {},
   "source": [
    "# Data Preprocessing"
   ]
  },
  {
   "attachments": {},
   "cell_type": "markdown",
   "metadata": {},
   "source": [
    "## Importing libraries"
   ]
  },
  {
   "cell_type": "code",
   "execution_count": 69,
   "metadata": {},
   "outputs": [],
   "source": [
    "import numpy as np\n",
    "import pandas as pd"
   ]
  },
  {
   "attachments": {},
   "cell_type": "markdown",
   "metadata": {},
   "source": [
    "## Loading datasets"
   ]
  },
  {
   "cell_type": "code",
   "execution_count": 70,
   "metadata": {},
   "outputs": [
    {
     "name": "stdout",
     "output_type": "stream",
     "text": [
      "Credits: (4803, 4)\n",
      "Movies Dataframe: (4803, 20)\n"
     ]
    }
   ],
   "source": [
    "credits = pd.read_csv(\"Dataset/tmdb_5000_credits.csv\")\n",
    "movies = pd.read_csv(\"Dataset/tmdb_5000_movies.csv\")\n",
    "print(\"Credits:\",credits.shape)\n",
    "print(\"Movies Dataframe:\",movies.shape)\n",
    "\n",
    "# Mergeing the datasets and dropping useless columns\n",
    "credits_column_renamed = credits.rename(index=str, columns={\"movie_id\": \"id\"})\n",
    "movies_merge = movies.merge(credits_column_renamed, on='id')\n",
    "movies_cleaned = movies_merge.drop(columns=['homepage', 'title_x', 'title_y', 'status','production_countries'])"
   ]
  },
  {
   "cell_type": "code",
   "execution_count": 71,
   "metadata": {},
   "outputs": [
    {
     "name": "stdout",
     "output_type": "stream",
     "text": [
      "bla\n",
      "4803\n"
     ]
    }
   ],
   "source": [
    "movies_cleaned_df = movies_cleaned['overview'].tolist()\n",
    "# 2656\n",
    "movies_cleaned_df[2656] = \"bla\"\n",
    "movies_cleaned_df[4140] = \"bla\"\n",
    "movies_cleaned_df[4431] = \"bla\"\n",
    "print(movies_cleaned_df[4431])\n",
    "print(len(movies_cleaned_df))"
   ]
  },
  {
   "attachments": {},
   "cell_type": "markdown",
   "metadata": {},
   "source": [
    "# Training the model"
   ]
  },
  {
   "cell_type": "code",
   "execution_count": 80,
   "metadata": {},
   "outputs": [
    {
     "name": "stdout",
     "output_type": "stream",
     "text": [
      "[1.00028799 1.         1.         ... 1.         1.         1.        ]\n"
     ]
    }
   ],
   "source": [
    "######################################################\n",
    "## Trying CountVectorizer... it's ok\n",
    "# import re\n",
    "# import nltk\n",
    "# nltk.download('stopwords')\n",
    "# from nltk.corpus import stopwords\n",
    "# from nltk.stem.porter import PorterStemmer\n",
    "# corpus = []\n",
    "# for i in range(0, 4803):\n",
    "#   overview = re.sub('[^a-zA-Z]', ' ', movies_cleaned_df[i])\n",
    "#   overview = overview.lower()\n",
    "#   overview = overview.split()\n",
    "#   ps = PorterStemmer()\n",
    "#   all_stopwords = stopwords.words('english')\n",
    "#   all_stopwords.remove('not')\n",
    "#   overview = [ps.stem(word) for word in overview if not word in set(all_stopwords)]\n",
    "#   overview = ' '.join(overview)\n",
    "#   corpus.append(overview)\n",
    "\n",
    "# from sklearn.feature_extraction.text import CountVectorizer\n",
    "# cv = CountVectorizer()\n",
    "\n",
    "# matrix = cv.fit_transform(corpus)\n",
    "\n",
    "###############################################################################\n",
    "\n",
    "from sklearn.feature_extraction.text import TfidfVectorizer\n",
    "tfv = TfidfVectorizer(min_df=3,  max_features=None,\n",
    "            strip_accents='unicode', analyzer='word',token_pattern=r'\\w{1,}',\n",
    "            ngram_range=(1, 3),\n",
    "            stop_words = 'english')\n",
    "\n",
    "\n",
    "# Fitting the TF-IDF on the 'overview' text\n",
    "matrix = tfv.fit_transform(movies_cleaned_df)\n",
    "\n",
    "# Trying other kernels: laplacian_kernel, linear_kernel, pairwise_kernels, polynomial_kernel\n",
    "from sklearn.metrics.pairwise import polynomial_kernel\n",
    "\n",
    "# Compute the sigmoid kernel\n",
    "euc_dist = polynomial_kernel(matrix, matrix)\n",
    "print(euc_dist[0])"
   ]
  },
  {
   "attachments": {},
   "cell_type": "markdown",
   "metadata": {},
   "source": [
    "## Reverse mapping of indices and movie titles"
   ]
  },
  {
   "cell_type": "code",
   "execution_count": 81,
   "metadata": {},
   "outputs": [
    {
     "name": "stdout",
     "output_type": "stream",
     "text": [
      "original_title\n",
      "Avatar                                         0\n",
      "Pirates of the Caribbean: At World's End       1\n",
      "Spectre                                        2\n",
      "The Dark Knight Rises                          3\n",
      "John Carter                                    4\n",
      "                                            ... \n",
      "El Mariachi                                 4798\n",
      "Newlyweds                                   4799\n",
      "Signed, Sealed, Delivered                   4800\n",
      "Shanghai Calling                            4801\n",
      "My Date with Drew                           4802\n",
      "Length: 4803, dtype: int64\n",
      "4799\n",
      "[1.         1.00002681 1.00001702 ... 1.         1.         1.        ]\n"
     ]
    }
   ],
   "source": [
    "# Reverse mapping of indices and movie titles\n",
    "indices = pd.Series(movies_cleaned.index, index=movies_cleaned['original_title']).drop_duplicates()\n",
    "print(indices)\n",
    "print(indices['Newlyweds'])\n",
    "print(euc_dist[1799])\n",
    "# print(list(enumerate(sig[indices['Newlyweds']])))\n",
    "# print(sorted(list(enumerate(sig[indices['Newlyweds']])), key=lambda x: x[1], reverse=True))\n",
    "\n"
   ]
  },
  {
   "cell_type": "code",
   "execution_count": 82,
   "metadata": {},
   "outputs": [],
   "source": [
    "def give_recomendations(title, model=euc_dist):\n",
    "    # Get the index corresponding to original_title\n",
    "    idx = indices[title]\n",
    "\n",
    "    # Get the pairwsie similarity scores\n",
    "    model_scores = list(enumerate(model[idx]))\n",
    "\n",
    "    # Sort the movies\n",
    "    model_scores = sorted(model_scores, key=lambda x: x[1], reverse=True)\n",
    "\n",
    "    # Scores of the 10 most similar movies\n",
    "    model_scores = model_scores[1:11]\n",
    "\n",
    "    # Movie indices\n",
    "    movie_indices = [i[0] for i in model_scores]\n",
    "\n",
    "    # Top 10 most similar movies\n",
    "    return movies_cleaned['original_title'].iloc[movie_indices]"
   ]
  },
  {
   "cell_type": "code",
   "execution_count": 83,
   "metadata": {},
   "outputs": [
    {
     "name": "stdout",
     "output_type": "stream",
     "text": [
      "616                       Ted 2\n",
      "2689         Our Family Wedding\n",
      "869          You, Me and Dupree\n",
      "3969           Something Wicked\n",
      "1576                 Bride Wars\n",
      "2290               Just Married\n",
      "1032      America's Sweethearts\n",
      "3145                      Amour\n",
      "2531     Why Did I Get Married?\n",
      "504     The Secret Life of Pets\n",
      "Name: original_title, dtype: object\n"
     ]
    }
   ],
   "source": [
    "print(give_recomendations('Newlyweds'))"
   ]
  }
 ],
 "metadata": {
  "kernelspec": {
   "display_name": "Python 3",
   "language": "python",
   "name": "python3"
  },
  "language_info": {
   "codemirror_mode": {
    "name": "ipython",
    "version": 3
   },
   "file_extension": ".py",
   "mimetype": "text/x-python",
   "name": "python",
   "nbconvert_exporter": "python",
   "pygments_lexer": "ipython3",
   "version": "3.9.12"
  },
  "orig_nbformat": 4,
  "vscode": {
   "interpreter": {
    "hash": "ffb21c7f50ccbdd9cabeaacb722f478577479649672a627763d22c6e44daa1fc"
   }
  }
 },
 "nbformat": 4,
 "nbformat_minor": 2
}
