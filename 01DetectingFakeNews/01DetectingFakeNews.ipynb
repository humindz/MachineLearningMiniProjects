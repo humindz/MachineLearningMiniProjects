{
  "nbformat": 4,
  "nbformat_minor": 0,
  "metadata": {
    "colab": {
      "provenance": [],
      "collapsed_sections": []
    },
    "kernelspec": {
      "name": "python3",
      "display_name": "Python 3"
    },
    "language_info": {
      "name": "python"
    }
  },
  "cells": [
    {
      "cell_type": "markdown",
      "metadata": {
        "id": "WOw8yMd1VlnD"
      },
      "source": [
        "# Data Preprocessing"
      ]
    },
    {
      "cell_type": "markdown",
      "metadata": {
        "id": "NvUGC8QQV6bV"
      },
      "source": [
        "## Importing the libraries"
      ]
    },
    {
      "cell_type": "code",
      "metadata": {
        "id": "wfFEXZC0WS-V"
      },
      "source": [
        "import numpy as np\n",
        "import matplotlib.pyplot as plt\n",
        "import pandas as pd"
      ],
      "execution_count": null,
      "outputs": []
    },
    {
      "cell_type": "markdown",
      "metadata": {
        "id": "fhYaZ-ENV_c5"
      },
      "source": [
        "## Importing the dataset"
      ]
    },
    {
      "cell_type": "code",
      "metadata": {
        "id": "aqHTg9bxWT_u"
      },
      "source": [
        "dataset = pd.read_csv('news.csv')\n",
        "labels=dataset.label"
      ],
      "execution_count": null,
      "outputs": []
    },
    {
      "cell_type": "markdown",
      "metadata": {
        "id": "3abSxRqvWEIB"
      },
      "source": [
        "## Splitting the dataset into the Training set and Test set"
      ]
    },
    {
      "cell_type": "code",
      "metadata": {
        "id": "hm48sif-WWsh",
        "colab": {
          "base_uri": "https://localhost:8080/"
        },
        "outputId": "3b464cfe-7045-48ec-eb56-fe5792a9b04d"
      },
      "source": [
        "from sklearn.model_selection import train_test_split\n",
        "X_train, X_test, y_train, y_test = train_test_split(dataset['text'], labels, test_size = 0.2, random_state = 7)\n",
        "print(y_train)"
      ],
      "execution_count": null,
      "outputs": [
        {
          "output_type": "stream",
          "name": "stdout",
          "text": [
            "6237    FAKE\n",
            "3722    FAKE\n",
            "5774    FAKE\n",
            "336     REAL\n",
            "3622    REAL\n",
            "        ... \n",
            "5699    FAKE\n",
            "2550    REAL\n",
            "537     REAL\n",
            "1220    REAL\n",
            "4271    REAL\n",
            "Name: label, Length: 5068, dtype: object\n"
          ]
        }
      ]
    },
    {
      "cell_type": "markdown",
      "source": [
        "## Initialize TF-IDF-vectorizer"
      ],
      "metadata": {
        "id": "SXfH5_AtdE00"
      }
    },
    {
      "cell_type": "code",
      "source": [
        "from sklearn.feature_extraction.text import TfidfVectorizer\n",
        "vectorizer = TfidfVectorizer(stop_words='english', max_df=0.7)"
      ],
      "metadata": {
        "id": "BqIRCiJKdRcS"
      },
      "execution_count": null,
      "outputs": []
    },
    {
      "cell_type": "markdown",
      "source": [
        "## Fit and Transform training set. Transform test set."
      ],
      "metadata": {
        "id": "e6ThG4UWdj-p"
      }
    },
    {
      "cell_type": "code",
      "source": [
        "v_train = vectorizer.fit_transform(X_train)\n",
        "v_test = vectorizer.transform(X_test)"
      ],
      "metadata": {
        "id": "AdTderEldwWw"
      },
      "execution_count": null,
      "outputs": []
    },
    {
      "cell_type": "markdown",
      "source": [
        "## Initialize and fit RandomForest"
      ],
      "metadata": {
        "id": "yN4IDBd0xOcg"
      }
    },
    {
      "cell_type": "code",
      "source": [
        "from sklearn.ensemble import RandomForestClassifier\n",
        "rfc = RandomForestClassifier(n_estimators = 100, criterion = 'entropy', max_depth=12, random_state = 0)\n",
        "rfc.fit(v_train, y_train)"
      ],
      "metadata": {
        "colab": {
          "base_uri": "https://localhost:8080/"
        },
        "id": "iK9pqATkxVG-",
        "outputId": "cf67eaf3-f8e9-4a30-82fe-33ef985e639a"
      },
      "execution_count": null,
      "outputs": [
        {
          "output_type": "execute_result",
          "data": {
            "text/plain": [
              "RandomForestClassifier(criterion='entropy', n_estimators=10, random_state=0)"
            ]
          },
          "metadata": {},
          "execution_count": 7
        }
      ]
    },
    {
      "cell_type": "markdown",
      "source": [
        "## Initialize DecisionTree"
      ],
      "metadata": {
        "id": "KSZnmmnTuoSj"
      }
    },
    {
      "cell_type": "code",
      "source": [
        "from sklearn.tree import DecisionTreeClassifier\n",
        "dtc = DecisionTreeClassifier(criterion = 'entropy', max_depth=10, random_state = 0)\n",
        "dtc.fit(v_train, y_train)"
      ],
      "metadata": {
        "colab": {
          "base_uri": "https://localhost:8080/"
        },
        "id": "mvIYjdusuzKJ",
        "outputId": "39f833df-2a09-46cb-fbc4-3ca181ed14f0"
      },
      "execution_count": null,
      "outputs": [
        {
          "output_type": "execute_result",
          "data": {
            "text/plain": [
              "DecisionTreeClassifier(criterion='entropy', random_state=0)"
            ]
          },
          "metadata": {},
          "execution_count": 8
        }
      ]
    },
    {
      "cell_type": "markdown",
      "source": [
        "## Initialize PassiveAgressiveClassifier"
      ],
      "metadata": {
        "id": "hCJrVae9fb17"
      }
    },
    {
      "cell_type": "code",
      "source": [
        "from sklearn.linear_model import PassiveAggressiveClassifier\n",
        "pac=PassiveAggressiveClassifier(max_iter=25, C=0.25, random_state = 0)\n",
        "pac.fit(v_train,y_train)"
      ],
      "metadata": {
        "colab": {
          "base_uri": "https://localhost:8080/"
        },
        "id": "eA3Aoy0Mfg7X",
        "outputId": "f9207a13-4a6f-4051-ab4f-7b23206526b1"
      },
      "execution_count": null,
      "outputs": [
        {
          "output_type": "execute_result",
          "data": {
            "text/plain": [
              "PassiveAggressiveClassifier(max_iter=50, random_state=0)"
            ]
          },
          "metadata": {},
          "execution_count": 25
        }
      ]
    },
    {
      "cell_type": "markdown",
      "source": [
        "## Predict the test set results"
      ],
      "metadata": {
        "id": "Uco2a7Kafs-8"
      }
    },
    {
      "cell_type": "code",
      "source": [
        "from sklearn.metrics import accuracy_score\n",
        "y_pred_rfc=rfc.predict(v_test)\n",
        "score_rfc=accuracy_score(y_test,y_pred_rfc)\n",
        "print(f'Accuracy: {round(score_rfc*100,2)}%')\n",
        "y_pred_dtc=dtc.predict(v_test)\n",
        "score_dtc=accuracy_score(y_test,y_pred_dtc)\n",
        "print(f'Accuracy: {round(score_dtc*100,2)}%')\n",
        "y_pred_pac=pac.predict(v_test)\n",
        "score_pac=accuracy_score(y_test,y_pred_pac)\n",
        "print(f'Accuracy: {round(score_pac*100,2)}%')\n"
      ],
      "metadata": {
        "colab": {
          "base_uri": "https://localhost:8080/"
        },
        "id": "-vyXJTXHfxd1",
        "outputId": "99bdedc2-a384-488d-d46d-e5bb990b9e67"
      },
      "execution_count": null,
      "outputs": [
        {
          "output_type": "stream",
          "name": "stdout",
          "text": [
            "Accuracy: 83.74%\n",
            "Accuracy: 80.66%\n",
            "Accuracy: 92.66%\n"
          ]
        }
      ]
    },
    {
      "cell_type": "markdown",
      "source": [
        "## Confusion Matrix"
      ],
      "metadata": {
        "id": "iCe3-vTbf_Lr"
      }
    },
    {
      "cell_type": "code",
      "source": [
        "from sklearn.metrics import confusion_matrix\n",
        "cm = confusion_matrix(y_test, y_pred_rfc)\n",
        "print(cm)\n",
        "accuracy_score(y_test, y_pred_rfc)"
      ],
      "metadata": {
        "colab": {
          "base_uri": "https://localhost:8080/"
        },
        "id": "TXOinqWegAaP",
        "outputId": "11f63682-589f-4202-a9b1-095806ba4244"
      },
      "execution_count": null,
      "outputs": [
        {
          "output_type": "stream",
          "name": "stdout",
          "text": [
            "[[580  58]\n",
            " [148 481]]\n"
          ]
        },
        {
          "output_type": "execute_result",
          "data": {
            "text/plain": [
              "0.8374112075769534"
            ]
          },
          "metadata": {},
          "execution_count": 11
        }
      ]
    },
    {
      "cell_type": "markdown",
      "source": [
        "## Different GridSearch for the classifiers"
      ],
      "metadata": {
        "id": "0tCimtvabszA"
      }
    },
    {
      "cell_type": "code",
      "source": [
        "from sklearn.model_selection import GridSearchCV\n",
        "###########################################\n",
        "#For decision tree:\n",
        "dtc_param = [{'criterion': ['gini', 'entropy'], 'max_depth' : [2,4,6,8,10,12]}]\n",
        "#Best Accuracy: 81.97 %\n",
        "#Best Parameters: {'criterion': 'gini', 'max_depth': 10}\n",
        "\n",
        "###########################################\n",
        "#For random forest:\n",
        "rfc_param = [{'n_estimators':[10,25,50,100], 'criterion':['gini', 'entropy'], 'max_depth' : [2,4,6,8,10,12]}]\n",
        "# Best Accuracy: 85.68 %\n",
        "# Best Parameters: {'criterion': 'entropy', 'max_depth': 12, 'n_estimators': 100}\n",
        "\n",
        "###########################################\n",
        "#For passive agressive\n",
        "pac_param = [{'C': [0.25, 0.5, 0.75, 1], 'max_iter':[25, 50, 100, 150, 250, 500, 1000]}]\n",
        "# Best Accuracy: 93.94 %\n",
        "# Best Parameters: {'C': 0.25, 'max_iter': 25}\n",
        "\n",
        "grid_search = GridSearchCV(estimator = pac,\n",
        "                           param_grid = pac_param,\n",
        "                           scoring = 'accuracy',\n",
        "                           cv = 10,\n",
        "                           n_jobs = -1)\n",
        "grid_search.fit(v_train, y_train)\n",
        "best_accuracy = grid_search.best_score_\n",
        "best_parameters = grid_search.best_params_\n",
        "print(\"Best Accuracy: {:.2f} %\".format(best_accuracy*100))\n",
        "print(\"Best Parameters:\", best_parameters)"
      ],
      "metadata": {
        "colab": {
          "base_uri": "https://localhost:8080/"
        },
        "id": "HoH46xkyb71Z",
        "outputId": "e44da932-f866-45a2-9fe3-2543ea9c5f7b"
      },
      "execution_count": null,
      "outputs": [
        {
          "output_type": "stream",
          "name": "stdout",
          "text": [
            "Best Accuracy: 93.94 %\n",
            "Best Parameters: {'C': 0.25, 'max_iter': 25}\n"
          ]
        }
      ]
    }
  ]
}