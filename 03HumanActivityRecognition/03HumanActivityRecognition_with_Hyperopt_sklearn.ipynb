{
  "cells": [
    {
      "cell_type": "markdown",
      "metadata": {
        "id": "37puETfgRzzg"
      },
      "source": [
        "# Data Preprocessing Tools"
      ]
    },
    {
      "cell_type": "markdown",
      "metadata": {
        "id": "EoRP98MpR-qj"
      },
      "source": [
        "## Importing the libraries"
      ]
    },
    {
      "cell_type": "code",
      "execution_count": 11,
      "metadata": {
        "colab": {
          "base_uri": "https://localhost:8080/"
        },
        "id": "n1lcQ1qI7SPn",
        "outputId": "58828ed1-d3c7-4c31-dc3f-bc8fee6b4682"
      },
      "outputs": [
        {
          "name": "stdout",
          "output_type": "stream",
          "text": [
            "Collecting git+https://github.com/hyperopt/hyperopt-sklearn.git\n",
            "  Cloning https://github.com/hyperopt/hyperopt-sklearn.git to c:\\users\\rozst\\appdata\\local\\temp\\pip-req-build-ju5utkb2\n",
            "  Resolved https://github.com/hyperopt/hyperopt-sklearn.git to commit 4b3f6fde3a1ded2e71e8373d52c1b51a0239ef91\n",
            "  Installing build dependencies: started\n",
            "  Installing build dependencies: finished with status 'done'\n",
            "  Getting requirements to build wheel: started\n",
            "  Getting requirements to build wheel: finished with status 'done'\n",
            "    Preparing wheel metadata: started\n",
            "    Preparing wheel metadata: finished with status 'done'\n",
            "Requirement already satisfied: hyperopt>=0.2.6 in c:\\users\\rozst\\appdata\\roaming\\python\\python39\\site-packages (from hpsklearn==1.0.3) (0.2.7)\n",
            "Requirement already satisfied: scipy>=1.7.1 in c:\\users\\rozst\\anaconda3\\lib\\site-packages (from hpsklearn==1.0.3) (1.7.3)\n",
            "Requirement already satisfied: numpy>=1.21.2 in c:\\users\\rozst\\anaconda3\\lib\\site-packages (from hpsklearn==1.0.3) (1.21.5)\n",
            "Requirement already satisfied: scikit-learn>=1.0 in c:\\users\\rozst\\anaconda3\\lib\\site-packages (from hpsklearn==1.0.3) (1.0.2)\n",
            "Requirement already satisfied: future in c:\\users\\rozst\\anaconda3\\lib\\site-packages (from hyperopt>=0.2.6->hpsklearn==1.0.3) (0.18.2)\n",
            "Requirement already satisfied: py4j in c:\\users\\rozst\\appdata\\roaming\\python\\python39\\site-packages (from hyperopt>=0.2.6->hpsklearn==1.0.3) (0.10.9.7)\n",
            "Requirement already satisfied: cloudpickle in c:\\users\\rozst\\anaconda3\\lib\\site-packages (from hyperopt>=0.2.6->hpsklearn==1.0.3) (2.0.0)\n",
            "Requirement already satisfied: networkx>=2.2 in c:\\users\\rozst\\anaconda3\\lib\\site-packages (from hyperopt>=0.2.6->hpsklearn==1.0.3) (2.7.1)\n",
            "Requirement already satisfied: tqdm in c:\\users\\rozst\\anaconda3\\lib\\site-packages (from hyperopt>=0.2.6->hpsklearn==1.0.3) (4.64.0)\n",
            "Requirement already satisfied: six in c:\\users\\rozst\\anaconda3\\lib\\site-packages (from hyperopt>=0.2.6->hpsklearn==1.0.3) (1.16.0)\n",
            "Requirement already satisfied: joblib>=0.11 in c:\\users\\rozst\\anaconda3\\lib\\site-packages (from scikit-learn>=1.0->hpsklearn==1.0.3) (1.1.0)\n",
            "Requirement already satisfied: threadpoolctl>=2.0.0 in c:\\users\\rozst\\anaconda3\\lib\\site-packages (from scikit-learn>=1.0->hpsklearn==1.0.3) (2.2.0)\n",
            "Requirement already satisfied: colorama in c:\\users\\rozst\\anaconda3\\lib\\site-packages (from tqdm->hyperopt>=0.2.6->hpsklearn==1.0.3) (0.4.4)\n",
            "Note: you may need to restart the kernel to use updated packages.\n"
          ]
        },
        {
          "name": "stderr",
          "output_type": "stream",
          "text": [
            "  Running command git clone -q https://github.com/hyperopt/hyperopt-sklearn.git 'C:\\Users\\rozst\\AppData\\Local\\Temp\\pip-req-build-ju5utkb2'\n"
          ]
        }
      ],
      "source": [
        "%pip install git+https://github.com/hyperopt/hyperopt-sklearn.git --user"
      ]
    },
    {
      "cell_type": "code",
      "execution_count": 1,
      "metadata": {
        "id": "PY0llxBZ28OF"
      },
      "outputs": [],
      "source": [
        "import pandas as pd\n",
        "import numpy as np\n",
        "import seaborn as sns\n",
        "import matplotlib.pyplot as plt\n",
        "%matplotlib inline\n",
        "import warnings\n",
        "import time\n",
        "from sklearn.metrics import confusion_matrix, accuracy_score, classification_report\n",
        "from sklearn.model_selection import KFold, cross_val_score\n",
        "\n",
        "from hpsklearn import HyperoptEstimator\n",
        "from hyperopt import tpe\n",
        "warnings.filterwarnings(\"ignore\")"
      ]
    },
    {
      "cell_type": "markdown",
      "metadata": {
        "id": "RopL7tUZSQkT"
      },
      "source": [
        "## Importing the dataset"
      ]
    },
    {
      "cell_type": "code",
      "execution_count": 4,
      "metadata": {
        "id": "vJWnBOvZ3oaN"
      },
      "outputs": [],
      "source": [
        "train = pd.read_csv(\"dataset/train-1.csv\")\n",
        "# test = pd.read_csv(\"test.csv\")\n",
        "train['Data'] = 'Train'\n",
        "# test['Data'] = 'Test'\n",
        "both = pd.concat([train], axis=0).reset_index(drop=True)\n",
        "both['subject'] = '#' + both['subject'].astype(str)\n",
        "both = both.sample(frac=0.10, replace=True, random_state=1)"
      ]
    },
    {
      "cell_type": "code",
      "execution_count": 5,
      "metadata": {
        "colab": {
          "base_uri": "https://localhost:8080/"
        },
        "id": "-1d8AOlM6Vk6",
        "outputId": "649eb1f1-613e-4103-a808-c99ffdfe69b6"
      },
      "outputs": [
        {
          "name": "stdout",
          "output_type": "stream",
          "text": [
            "735\n"
          ]
        }
      ],
      "source": [
        "print(len(both))"
      ]
    },
    {
      "cell_type": "markdown",
      "metadata": {
        "id": "nhfKXNxlSabC"
      },
      "source": [
        "## Taking care of missing data"
      ]
    },
    {
      "cell_type": "code",
      "execution_count": 6,
      "metadata": {
        "colab": {
          "base_uri": "https://localhost:8080/",
          "height": 423
        },
        "id": "UGqnQj32QKM5",
        "outputId": "f692a17f-8948-4b11-e7f8-88747b74373e"
      },
      "outputs": [
        {
          "data": {
            "text/html": [
              "<div>\n",
              "<style scoped>\n",
              "    .dataframe tbody tr th:only-of-type {\n",
              "        vertical-align: middle;\n",
              "    }\n",
              "\n",
              "    .dataframe tbody tr th {\n",
              "        vertical-align: top;\n",
              "    }\n",
              "\n",
              "    .dataframe thead th {\n",
              "        text-align: right;\n",
              "    }\n",
              "</style>\n",
              "<table border=\"1\" class=\"dataframe\">\n",
              "  <thead>\n",
              "    <tr style=\"text-align: right;\">\n",
              "      <th></th>\n",
              "      <th>Missing value</th>\n",
              "      <th>N unique value</th>\n",
              "      <th>dtype</th>\n",
              "    </tr>\n",
              "  </thead>\n",
              "  <tbody>\n",
              "    <tr>\n",
              "      <th>tBodyAcc-mean()-X</th>\n",
              "      <td>0</td>\n",
              "      <td>691</td>\n",
              "      <td>float64</td>\n",
              "    </tr>\n",
              "    <tr>\n",
              "      <th>tBodyAcc-mean()-Y</th>\n",
              "      <td>0</td>\n",
              "      <td>691</td>\n",
              "      <td>float64</td>\n",
              "    </tr>\n",
              "    <tr>\n",
              "      <th>tBodyAcc-mean()-Z</th>\n",
              "      <td>0</td>\n",
              "      <td>691</td>\n",
              "      <td>float64</td>\n",
              "    </tr>\n",
              "    <tr>\n",
              "      <th>tBodyAcc-std()-X</th>\n",
              "      <td>0</td>\n",
              "      <td>691</td>\n",
              "      <td>float64</td>\n",
              "    </tr>\n",
              "    <tr>\n",
              "      <th>tBodyAcc-std()-Y</th>\n",
              "      <td>0</td>\n",
              "      <td>691</td>\n",
              "      <td>float64</td>\n",
              "    </tr>\n",
              "    <tr>\n",
              "      <th>...</th>\n",
              "      <td>...</td>\n",
              "      <td>...</td>\n",
              "      <td>...</td>\n",
              "    </tr>\n",
              "    <tr>\n",
              "      <th>angle(Y,gravityMean)</th>\n",
              "      <td>0</td>\n",
              "      <td>691</td>\n",
              "      <td>float64</td>\n",
              "    </tr>\n",
              "    <tr>\n",
              "      <th>angle(Z,gravityMean)</th>\n",
              "      <td>0</td>\n",
              "      <td>691</td>\n",
              "      <td>float64</td>\n",
              "    </tr>\n",
              "    <tr>\n",
              "      <th>subject</th>\n",
              "      <td>0</td>\n",
              "      <td>21</td>\n",
              "      <td>object</td>\n",
              "    </tr>\n",
              "    <tr>\n",
              "      <th>Activity</th>\n",
              "      <td>0</td>\n",
              "      <td>6</td>\n",
              "      <td>object</td>\n",
              "    </tr>\n",
              "    <tr>\n",
              "      <th>Data</th>\n",
              "      <td>0</td>\n",
              "      <td>1</td>\n",
              "      <td>object</td>\n",
              "    </tr>\n",
              "  </tbody>\n",
              "</table>\n",
              "<p>564 rows × 3 columns</p>\n",
              "</div>"
            ],
            "text/plain": [
              "                      Missing value  N unique value    dtype\n",
              "tBodyAcc-mean()-X                 0             691  float64\n",
              "tBodyAcc-mean()-Y                 0             691  float64\n",
              "tBodyAcc-mean()-Z                 0             691  float64\n",
              "tBodyAcc-std()-X                  0             691  float64\n",
              "tBodyAcc-std()-Y                  0             691  float64\n",
              "...                             ...             ...      ...\n",
              "angle(Y,gravityMean)              0             691  float64\n",
              "angle(Z,gravityMean)              0             691  float64\n",
              "subject                           0              21   object\n",
              "Activity                          0               6   object\n",
              "Data                              0               1   object\n",
              "\n",
              "[564 rows x 3 columns]"
            ]
          },
          "execution_count": 6,
          "metadata": {},
          "output_type": "execute_result"
        }
      ],
      "source": [
        "def basic_details(df):\n",
        "    b = pd.DataFrame()\n",
        "    b['Missing value'] = df.isnull().sum()\n",
        "    b['N unique value'] = df.nunique()\n",
        "    b['dtype'] = df.dtypes\n",
        "    return b\n",
        "basic_details(both)"
      ]
    },
    {
      "cell_type": "code",
      "execution_count": 7,
      "metadata": {
        "id": "tmLmQN0UbKqi"
      },
      "outputs": [],
      "source": [
        "activity = both['Activity']\n",
        "label_counts = activity.value_counts()\n",
        "\n",
        "# plt.figure(figsize= (12, 8))\n",
        "# plt.bar(label_counts.index, label_counts)"
      ]
    },
    {
      "cell_type": "code",
      "execution_count": 8,
      "metadata": {
        "id": "HuSCQSn8bQ3h"
      },
      "outputs": [],
      "source": [
        "Data = both['Data']\n",
        "Subject = both['subject']\n",
        "train = both.copy()\n",
        "train = train.drop(['Data','subject','Activity'], axis =1)"
      ]
    },
    {
      "cell_type": "code",
      "execution_count": null,
      "metadata": {
        "colab": {
          "base_uri": "https://localhost:8080/"
        },
        "id": "Fs78RRKIdCds",
        "outputId": "242481c1-b5e4-4a85-909d-17ea747f7509"
      },
      "outputs": [
        {
          "name": "stdout",
          "output_type": "stream",
          "text": [
            "[[-1.70614350e+01  5.66438743e+00  5.79382745e-01 ... -4.09576252e-01\n",
            "  -8.61427705e-02 -4.33322887e-01]\n",
            " [ 6.51200608e+00 -4.63371018e+00 -3.90130223e+00 ... -1.52639407e+00\n",
            "  -9.82100873e-01  1.10805220e+00]\n",
            " [-1.60559952e+01  5.80378577e+00 -3.80128257e-01 ...  1.36093870e+00\n",
            "  -1.45478484e-02 -2.53461742e-01]\n",
            " ...\n",
            " [ 1.04058142e+01 -4.01304459e+00  2.67254890e+00 ... -1.45478191e+00\n",
            "   1.94745791e+00 -4.27751049e-01]\n",
            " [ 7.27214699e+00 -1.35323003e+01  3.06328384e+00 ... -2.97603203e-01\n",
            "   2.99437088e-01  1.38359729e+00]\n",
            " [-1.62017435e+01  7.37397001e+00 -1.36693770e+00 ...  6.15318759e-01\n",
            "  -3.20261126e-01 -3.54369807e-01]]\n"
          ]
        }
      ],
      "source": [
        "print(train)"
      ]
    },
    {
      "cell_type": "markdown",
      "metadata": {
        "id": "CriG6VzVSjcK"
      },
      "source": [
        "## Scaleing"
      ]
    },
    {
      "cell_type": "code",
      "execution_count": 9,
      "metadata": {
        "id": "7P8L3lWdcCEr"
      },
      "outputs": [
        {
          "name": "stdout",
          "output_type": "stream",
          "text": [
            "[[-1.27222177e+01  4.35247115e-01  2.69887106e-03 ...  8.48759788e-01\n",
            "   2.66407328e+00  1.26074275e+00]\n",
            " [-1.63988825e+01 -5.92090134e+00 -7.30864147e-02 ...  1.91462787e-01\n",
            "  -1.13194600e-01 -9.56326898e-01]\n",
            " [-1.55072717e+01 -5.01624345e+00  4.02950782e-01 ...  7.96752386e-01\n",
            "   9.08511043e-01 -8.04194183e-02]\n",
            " ...\n",
            " [ 1.45180696e+01  5.57007312e+00 -3.12796445e+00 ...  2.63451566e+00\n",
            "   5.56727931e-01 -1.75998839e+00]\n",
            " [-1.50871267e+01 -4.01676838e+00  3.57495373e-01 ... -3.64931558e-02\n",
            "  -1.57222251e+00 -5.77226707e-01]\n",
            " [ 1.06463154e+01  4.94605751e+00 -1.18994446e+00 ...  1.13707611e+00\n",
            "   1.52459652e+00 -1.60531662e+00]]\n",
            "20\n"
          ]
        }
      ],
      "source": [
        "# Standard Scaler\n",
        "from sklearn.preprocessing import StandardScaler\n",
        "slc = StandardScaler()\n",
        "train = slc.fit_transform(train)\n",
        "\n",
        "# dimensionality reduction\n",
        "from sklearn.decomposition import PCA\n",
        "pca = PCA(n_components=20, random_state=0)\n",
        "train = pca.fit_transform(train)\n",
        "\n",
        "print(train)\n",
        "print(len(train[0]))"
      ]
    },
    {
      "cell_type": "markdown",
      "metadata": {
        "id": "qb_vcgm3qZKW"
      },
      "source": [
        "## Splitting the dataset into the Training set and Test set"
      ]
    },
    {
      "cell_type": "code",
      "execution_count": 10,
      "metadata": {
        "id": "NClKFgYJfvPW"
      },
      "outputs": [],
      "source": [
        "from sklearn.model_selection import train_test_split\n",
        "X_train, X_test, y_train, y_test = train_test_split(train, activity, test_size = 0.2, random_state = 0)"
      ]
    },
    {
      "cell_type": "markdown",
      "metadata": {
        "id": "4TpMQOHYoK6A"
      },
      "source": [
        "# Activity Recognition Algorithm"
      ]
    },
    {
      "cell_type": "code",
      "execution_count": 13,
      "metadata": {
        "colab": {
          "base_uri": "https://localhost:8080/",
          "height": 528
        },
        "id": "gDO-WLlbPEcY",
        "outputId": "cd24908a-e6c0-4ded-cc08-5cda595fe798"
      },
      "outputs": [
        {
          "name": "stdout",
          "output_type": "stream",
          "text": [
            "100%|██████████| 1/1 [00:05<00:00,  5.13s/trial, best loss: 0.44067796610169496]\n",
            "100%|██████████| 2/2 [00:02<00:00,  2.57s/trial, best loss: 0.44067796610169496]\n",
            "100%|██████████| 3/3 [00:03<00:00,  3.05s/trial, best loss: 0.44067796610169496]\n",
            "100%|██████████| 4/4 [00:04<00:00,  4.11s/trial, best loss: 0.15254237288135597]\n",
            "100%|██████████| 5/5 [00:07<00:00,  7.15s/trial, best loss: 0.15254237288135597]\n",
            "100%|██████████| 6/6 [00:02<00:00,  2.70s/trial, best loss: 0.15254237288135597]\n",
            "100%|██████████| 7/7 [00:02<00:00,  2.83s/trial, best loss: 0.15254237288135597]\n",
            "100%|██████████| 8/8 [00:02<00:00,  2.73s/trial, best loss: 0.15254237288135597]\n",
            "100%|██████████| 9/9 [00:02<00:00,  2.80s/trial, best loss: 0.15254237288135597]\n",
            "100%|██████████| 10/10 [00:05<00:00,  5.21s/trial, best loss: 0.15254237288135597]\n",
            "100%|██████████| 11/11 [00:03<00:00,  3.10s/trial, best loss: 0.15254237288135597]\n",
            "100%|██████████| 12/12 [00:04<00:00,  4.19s/trial, best loss: 0.15254237288135597]\n",
            "100%|██████████| 13/13 [00:02<00:00,  2.70s/trial, best loss: 0.15254237288135597]\n",
            "100%|██████████| 14/14 [00:02<00:00,  2.80s/trial, best loss: 0.15254237288135597]\n",
            "100%|██████████| 15/15 [00:02<00:00,  2.76s/trial, best loss: 0.15254237288135597]\n",
            "100%|██████████| 16/16 [00:02<00:00,  2.71s/trial, best loss: 0.15254237288135597]\n",
            "100%|██████████| 17/17 [00:02<00:00,  2.73s/trial, best loss: 0.13559322033898302]\n",
            "100%|██████████| 18/18 [00:02<00:00,  2.77s/trial, best loss: 0.13559322033898302]\n",
            "100%|██████████| 19/19 [00:02<00:00,  2.72s/trial, best loss: 0.13559322033898302]\n",
            "100%|██████████| 20/20 [00:02<00:00,  2.80s/trial, best loss: 0.13559322033898302]\n",
            "100%|██████████| 21/21 [00:02<00:00,  2.75s/trial, best loss: 0.11864406779661019]\n",
            "100%|██████████| 22/22 [00:04<00:00,  4.97s/trial, best loss: 0.11864406779661019]\n",
            "100%|██████████| 23/23 [00:02<00:00,  2.75s/trial, best loss: 0.11864406779661019]\n",
            "100%|██████████| 24/24 [00:02<00:00,  2.81s/trial, best loss: 0.11864406779661019]\n",
            "100%|██████████| 25/25 [00:02<00:00,  2.73s/trial, best loss: 0.11864406779661019]\n",
            "100%|██████████| 26/26 [00:02<00:00,  2.81s/trial, best loss: 0.11864406779661019]\n",
            "100%|██████████| 27/27 [00:02<00:00,  2.73s/trial, best loss: 0.11864406779661019]\n",
            "100%|██████████| 28/28 [00:02<00:00,  2.78s/trial, best loss: 0.11864406779661019]\n",
            "100%|██████████| 29/29 [00:02<00:00,  2.83s/trial, best loss: 0.11864406779661019]\n",
            "100%|██████████| 30/30 [00:02<00:00,  2.79s/trial, best loss: 0.11864406779661019]\n",
            "100%|██████████| 31/31 [00:02<00:00,  2.74s/trial, best loss: 0.11864406779661019]\n",
            "100%|██████████| 32/32 [00:02<00:00,  2.72s/trial, best loss: 0.11864406779661019]\n",
            "100%|██████████| 33/33 [00:03<00:00,  3.16s/trial, best loss: 0.11864406779661019]\n",
            "100%|██████████| 34/34 [00:02<00:00,  2.81s/trial, best loss: 0.11864406779661019]\n",
            "100%|██████████| 35/35 [00:03<00:00,  3.00s/trial, best loss: 0.11864406779661019]\n",
            "100%|██████████| 36/36 [00:02<00:00,  2.81s/trial, best loss: 0.11864406779661019]\n",
            "100%|██████████| 37/37 [00:02<00:00,  2.75s/trial, best loss: 0.11864406779661019]\n",
            "100%|██████████| 38/38 [00:02<00:00,  2.72s/trial, best loss: 0.11864406779661019]\n",
            "100%|██████████| 39/39 [00:02<00:00,  2.77s/trial, best loss: 0.11864406779661019]\n",
            "100%|██████████| 40/40 [00:02<00:00,  2.72s/trial, best loss: 0.11864406779661019]\n",
            "100%|██████████| 41/41 [00:12<00:00, 12.20s/trial, best loss: 0.11864406779661019]\n",
            "100%|██████████| 42/42 [00:07<00:00,  7.77s/trial, best loss: 0.11864406779661019]\n",
            "100%|██████████| 43/43 [00:02<00:00,  2.77s/trial, best loss: 0.11864406779661019]\n",
            "100%|██████████| 44/44 [00:02<00:00,  2.81s/trial, best loss: 0.11864406779661019]\n",
            "100%|██████████| 45/45 [00:03<00:00,  3.12s/trial, best loss: 0.11864406779661019]\n",
            "100%|██████████| 46/46 [00:02<00:00,  2.85s/trial, best loss: 0.11864406779661019]\n",
            "100%|██████████| 47/47 [00:02<00:00,  2.75s/trial, best loss: 0.11864406779661019]\n",
            "100%|██████████| 48/48 [00:02<00:00,  2.80s/trial, best loss: 0.11864406779661019]\n",
            "100%|██████████| 49/49 [00:02<00:00,  2.75s/trial, best loss: 0.11864406779661019]\n",
            "100%|██████████| 50/50 [00:02<00:00,  2.77s/trial, best loss: 0.11864406779661019]\n",
            "100%|██████████| 51/51 [00:02<00:00,  2.78s/trial, best loss: 0.11864406779661019]\n",
            "100%|██████████| 52/52 [00:02<00:00,  2.74s/trial, best loss: 0.11864406779661019]\n",
            "100%|██████████| 53/53 [00:02<00:00,  2.94s/trial, best loss: 0.11864406779661019]\n",
            "100%|██████████| 54/54 [00:02<00:00,  2.77s/trial, best loss: 0.11864406779661019]\n",
            "100%|██████████| 55/55 [00:02<00:00,  2.77s/trial, best loss: 0.11864406779661019]\n",
            "100%|██████████| 56/56 [00:02<00:00,  2.78s/trial, best loss: 0.11864406779661019]\n",
            "100%|██████████| 57/57 [00:02<00:00,  3.00s/trial, best loss: 0.11864406779661019]\n",
            "100%|██████████| 58/58 [00:03<00:00,  3.52s/trial, best loss: 0.11864406779661019]\n",
            "100%|██████████| 59/59 [00:02<00:00,  2.75s/trial, best loss: 0.11864406779661019]\n",
            "100%|██████████| 60/60 [00:02<00:00,  2.74s/trial, best loss: 0.11864406779661019]\n",
            "100%|██████████| 61/61 [00:04<00:00,  4.29s/trial, best loss: 0.11864406779661019]\n",
            "100%|██████████| 62/62 [00:02<00:00,  2.81s/trial, best loss: 0.11864406779661019]\n",
            "100%|██████████| 63/63 [00:02<00:00,  2.74s/trial, best loss: 0.11864406779661019]\n",
            "100%|██████████| 64/64 [00:06<00:00,  6.24s/trial, best loss: 0.11864406779661019]\n",
            "100%|██████████| 65/65 [00:02<00:00,  2.78s/trial, best loss: 0.11864406779661019]\n",
            "100%|██████████| 66/66 [00:02<00:00,  2.71s/trial, best loss: 0.11016949152542377]\n",
            "100%|██████████| 67/67 [00:02<00:00,  2.76s/trial, best loss: 0.11016949152542377]\n",
            "100%|██████████| 68/68 [00:02<00:00,  2.77s/trial, best loss: 0.11016949152542377]\n",
            "100%|██████████| 69/69 [00:02<00:00,  2.75s/trial, best loss: 0.11016949152542377]\n",
            "100%|██████████| 70/70 [00:03<00:00,  3.19s/trial, best loss: 0.11016949152542377]\n",
            "100%|██████████| 71/71 [00:02<00:00,  2.76s/trial, best loss: 0.11016949152542377]\n",
            "100%|██████████| 72/72 [00:02<00:00,  2.74s/trial, best loss: 0.11016949152542377]\n",
            "100%|██████████| 73/73 [00:02<00:00,  2.74s/trial, best loss: 0.11016949152542377]\n",
            "100%|██████████| 74/74 [00:02<00:00,  2.73s/trial, best loss: 0.11016949152542377]\n",
            "100%|██████████| 75/75 [00:02<00:00,  2.79s/trial, best loss: 0.11016949152542377]\n",
            "100%|██████████| 76/76 [00:02<00:00,  2.81s/trial, best loss: 0.11016949152542377]\n",
            "100%|██████████| 77/77 [00:02<00:00,  2.86s/trial, best loss: 0.11016949152542377]\n",
            "100%|██████████| 78/78 [00:02<00:00,  2.84s/trial, best loss: 0.11016949152542377]\n",
            "100%|██████████| 79/79 [00:02<00:00,  2.96s/trial, best loss: 0.11016949152542377]\n",
            "100%|██████████| 80/80 [00:02<00:00,  2.75s/trial, best loss: 0.11016949152542377]\n",
            "100%|██████████| 81/81 [00:02<00:00,  2.86s/trial, best loss: 0.11016949152542377]\n",
            "100%|██████████| 82/82 [00:02<00:00,  2.75s/trial, best loss: 0.11016949152542377]\n",
            "100%|██████████| 83/83 [00:03<00:00,  3.64s/trial, best loss: 0.11016949152542377]\n",
            "100%|██████████| 84/84 [00:02<00:00,  2.73s/trial, best loss: 0.11016949152542377]\n",
            "100%|██████████| 85/85 [00:02<00:00,  2.73s/trial, best loss: 0.11016949152542377]\n",
            "100%|██████████| 86/86 [00:02<00:00,  2.78s/trial, best loss: 0.11016949152542377]\n",
            "100%|██████████| 87/87 [00:02<00:00,  2.73s/trial, best loss: 0.11016949152542377]\n",
            "100%|██████████| 88/88 [00:02<00:00,  2.86s/trial, best loss: 0.11016949152542377]\n",
            "100%|██████████| 89/89 [00:04<00:00,  4.42s/trial, best loss: 0.11016949152542377]\n",
            "100%|██████████| 90/90 [00:02<00:00,  2.82s/trial, best loss: 0.11016949152542377]\n",
            "100%|██████████| 91/91 [00:02<00:00,  2.75s/trial, best loss: 0.11016949152542377]\n",
            "100%|██████████| 92/92 [00:02<00:00,  2.90s/trial, best loss: 0.11016949152542377]\n",
            "100%|██████████| 93/93 [00:02<00:00,  2.77s/trial, best loss: 0.11016949152542377]\n",
            "100%|██████████| 94/94 [00:02<00:00,  2.70s/trial, best loss: 0.11016949152542377]\n",
            "100%|██████████| 95/95 [00:02<00:00,  2.77s/trial, best loss: 0.11016949152542377]\n",
            "100%|██████████| 96/96 [00:02<00:00,  2.84s/trial, best loss: 0.11016949152542377]\n",
            "100%|██████████| 97/97 [00:03<00:00,  3.33s/trial, best loss: 0.11016949152542377]\n",
            "100%|██████████| 98/98 [00:02<00:00,  2.81s/trial, best loss: 0.11016949152542377]\n",
            "100%|██████████| 99/99 [00:02<00:00,  2.78s/trial, best loss: 0.11016949152542377]\n",
            "100%|██████████| 100/100 [00:02<00:00,  2.84s/trial, best loss: 0.11016949152542377]\n",
            "100%|██████████| 101/101 [00:05<00:00,  5.69s/trial, best loss: 0.11016949152542377]\n",
            "100%|██████████| 102/102 [00:02<00:00,  2.75s/trial, best loss: 0.11016949152542377]\n",
            "100%|██████████| 103/103 [00:02<00:00,  2.71s/trial, best loss: 0.11016949152542377]\n",
            "100%|██████████| 104/104 [00:03<00:00,  3.25s/trial, best loss: 0.11016949152542377]\n",
            "100%|██████████| 105/105 [00:02<00:00,  2.74s/trial, best loss: 0.11016949152542377]\n",
            "100%|██████████| 106/106 [00:02<00:00,  2.76s/trial, best loss: 0.11016949152542377]\n",
            "100%|██████████| 107/107 [00:02<00:00,  2.74s/trial, best loss: 0.11016949152542377]\n",
            "100%|██████████| 108/108 [00:02<00:00,  2.80s/trial, best loss: 0.11016949152542377]\n",
            "100%|██████████| 109/109 [00:02<00:00,  2.77s/trial, best loss: 0.11016949152542377]\n",
            "100%|██████████| 110/110 [00:02<00:00,  2.75s/trial, best loss: 0.11016949152542377]\n",
            "100%|██████████| 111/111 [00:08<00:00,  8.72s/trial, best loss: 0.10169491525423724]\n",
            "100%|██████████| 112/112 [00:07<00:00,  7.93s/trial, best loss: 0.10169491525423724]\n",
            "100%|██████████| 113/113 [00:07<00:00,  7.99s/trial, best loss: 0.10169491525423724]\n",
            "100%|██████████| 114/114 [00:04<00:00,  4.25s/trial, best loss: 0.10169491525423724]\n",
            "100%|██████████| 115/115 [00:03<00:00,  3.20s/trial, best loss: 0.10169491525423724]\n",
            "100%|██████████| 116/116 [00:07<00:00,  7.60s/trial, best loss: 0.10169491525423724]\n",
            "100%|██████████| 117/117 [00:02<00:00,  2.89s/trial, best loss: 0.10169491525423724]\n",
            "100%|██████████| 118/118 [00:04<00:00,  4.73s/trial, best loss: 0.10169491525423724]\n",
            "100%|██████████| 119/119 [00:05<00:00,  5.00s/trial, best loss: 0.10169491525423724]\n",
            "100%|██████████| 120/120 [00:04<00:00,  4.72s/trial, best loss: 0.10169491525423724]\n",
            "100%|██████████| 121/121 [00:04<00:00,  4.95s/trial, best loss: 0.10169491525423724]\n",
            "100%|██████████| 122/122 [00:05<00:00,  5.32s/trial, best loss: 0.10169491525423724]\n",
            "100%|██████████| 123/123 [00:02<00:00,  2.76s/trial, best loss: 0.10169491525423724]\n",
            "100%|██████████| 124/124 [00:02<00:00,  2.74s/trial, best loss: 0.10169491525423724]\n",
            "100%|██████████| 125/125 [00:02<00:00,  2.93s/trial, best loss: 0.10169491525423724]\n",
            "100%|██████████| 126/126 [00:03<00:00,  3.34s/trial, best loss: 0.10169491525423724]\n",
            "100%|██████████| 127/127 [00:02<00:00,  2.95s/trial, best loss: 0.10169491525423724]\n",
            "100%|██████████| 128/128 [00:02<00:00,  2.81s/trial, best loss: 0.10169491525423724]\n",
            "100%|██████████| 129/129 [00:07<00:00,  7.50s/trial, best loss: 0.10169491525423724]\n",
            "100%|██████████| 130/130 [00:02<00:00,  2.84s/trial, best loss: 0.10169491525423724]\n",
            "100%|██████████| 131/131 [00:03<00:00,  3.91s/trial, best loss: 0.10169491525423724]\n",
            "100%|██████████| 132/132 [00:02<00:00,  2.92s/trial, best loss: 0.10169491525423724]\n",
            "100%|██████████| 133/133 [00:02<00:00,  2.78s/trial, best loss: 0.10169491525423724]\n",
            "100%|██████████| 134/134 [00:02<00:00,  2.79s/trial, best loss: 0.10169491525423724]\n",
            "100%|██████████| 135/135 [00:02<00:00,  2.75s/trial, best loss: 0.10169491525423724]\n",
            "100%|██████████| 136/136 [00:04<00:00,  4.01s/trial, best loss: 0.10169491525423724]\n",
            "100%|██████████| 137/137 [00:02<00:00,  2.78s/trial, best loss: 0.10169491525423724]\n",
            "100%|██████████| 138/138 [00:06<00:00,  6.27s/trial, best loss: 0.10169491525423724]\n",
            "100%|██████████| 139/139 [00:09<00:00,  9.08s/trial, best loss: 0.10169491525423724]\n",
            "100%|██████████| 140/140 [00:05<00:00,  5.20s/trial, best loss: 0.10169491525423724]\n",
            "100%|██████████| 141/141 [00:04<00:00,  4.08s/trial, best loss: 0.10169491525423724]\n",
            "100%|██████████| 142/142 [00:05<00:00,  5.90s/trial, best loss: 0.10169491525423724]\n",
            "100%|██████████| 143/143 [00:06<00:00,  6.80s/trial, best loss: 0.10169491525423724]\n",
            "100%|██████████| 144/144 [00:10<00:00, 10.15s/trial, best loss: 0.10169491525423724]\n",
            "100%|██████████| 145/145 [00:03<00:00,  3.08s/trial, best loss: 0.10169491525423724]\n",
            "100%|██████████| 146/146 [00:02<00:00,  2.72s/trial, best loss: 0.10169491525423724]\n",
            "100%|██████████| 147/147 [00:13<00:00, 13.84s/trial, best loss: 0.10169491525423724]\n",
            "100%|██████████| 148/148 [00:02<00:00,  2.74s/trial, best loss: 0.10169491525423724]\n",
            "100%|██████████| 149/149 [00:05<00:00,  5.71s/trial, best loss: 0.10169491525423724]\n",
            "100%|██████████| 150/150 [00:05<00:00,  5.26s/trial, best loss: 0.10169491525423724]\n",
            "{'learner': GradientBoostingClassifier(learning_rate=0.09876723057471828,\n",
            "                           max_features=0.4628181612161242, n_estimators=955,\n",
            "                           random_state=0, verbose=False), 'preprocs': (Normalizer(),), 'ex_preprocs': ()}\n",
            "                    precision    recall  f1-score   support\n",
            "\n",
            "            LAYING       0.96      0.96      0.96        23\n",
            "           SITTING       0.75      0.82      0.78        22\n",
            "          STANDING       0.90      0.84      0.87        32\n",
            "           WALKING       0.90      0.96      0.93        28\n",
            "WALKING_DOWNSTAIRS       0.90      0.90      0.90        20\n",
            "  WALKING_UPSTAIRS       0.95      0.86      0.90        22\n",
            "\n",
            "          accuracy                           0.89       147\n",
            "         macro avg       0.89      0.89      0.89       147\n",
            "      weighted avg       0.89      0.89      0.89       147\n",
            "\n"
          ]
        },
        {
          "data": {
            "image/png": "[encoded data removed]",
            "text/plain": [
              "<Figure size 432x288 with 2 Axes>"
            ]
          },
          "metadata": {
            "needs_background": "light"
          },
          "output_type": "display_data"
        }
      ],
      "source": [
        "\n",
        "# Test options and evaluation metric\n",
        "num_folds = 10\n",
        "seed = 0\n",
        "scoring = 'accuracy'\n",
        "results = {}\n",
        "accuracy = {}\n",
        "\n",
        "# Finalizing the model and comparing the test, predict results\n",
        "\n",
        "tic = time.perf_counter()\n",
        "estim = HyperoptEstimator(algo=tpe.suggest, \n",
        "                            max_evals=150, \n",
        "                            trial_timeout=60)\n",
        "\n",
        "estim.fit( X_train, y_train )\n",
        "\n",
        "# Make a prediction using the optimized model\n",
        "y_predict = estim.predict( X_test )\n",
        "\n",
        "# Report the accuracy of the classifier on a given set of data\n",
        "score = estim.score( X_test, y_test )\n",
        "\n",
        "# Return instances of the classifier and preprocessing steps\n",
        "model = estim.best_model()\n",
        "\n",
        "# model = TPOTClassifier(generations=5, population_size=50, cv=5, scoring='accuracy', verbosity=2, random_state=1, n_jobs=-1)\n",
        "\n",
        "# _ = cross_val_score(model, X_train, y_train, cv=10, scoring=scoring)\n",
        "# results[\"GScv\"] = (_.mean(), _.std())\n",
        "\n",
        "# model.fit(X_train, y_train) \n",
        "# y_predict = model.predict(X_test)\n",
        "\n",
        "accuracy[\"GScv\"] = accuracy_score(y_test, y_predict)\n",
        "\n",
        "print(model)\n",
        "print(classification_report(y_test, y_predict))\n",
        "\n",
        "cm= confusion_matrix(y_test, y_predict)\n",
        "sns.heatmap(cm, annot=True)\n",
        "\n",
        "toc = time.perf_counter()\n",
        "tictoc = toc - tic"
      ]
    },
    {
      "cell_type": "code",
      "execution_count": 12,
      "metadata": {
        "colab": {
          "base_uri": "https://localhost:8080/"
        },
        "id": "AryJKbnV4bZN",
        "outputId": "9f9d4f8f-85b0-4737-d911-3b897bbe6a4b"
      },
      "outputs": [
        {
          "name": "stdout",
          "output_type": "stream",
          "text": [
            "Trained in 174.5250 seconds\n"
          ]
        }
      ],
      "source": [
        "print(f\"Trained in {toc - tic:0.4f} seconds\")"
      ]
    }
  ],
  "metadata": {
    "colab": {
      "provenance": []
    },
    "kernelspec": {
      "display_name": "Python 3",
      "language": "python",
      "name": "python3"
    },
    "language_info": {
      "codemirror_mode": {
        "name": "ipython",
        "version": 3
      },
      "file_extension": ".py",
      "mimetype": "text/x-python",
      "name": "python",
      "nbconvert_exporter": "python",
      "pygments_lexer": "ipython3",
      "version": "3.9.12"
    },
    "vscode": {
      "interpreter": {
        "hash": "ffb21c7f50ccbdd9cabeaacb722f478577479649672a627763d22c6e44daa1fc"
      }
    }
  },
  "nbformat": 4,
  "nbformat_minor": 0
}
