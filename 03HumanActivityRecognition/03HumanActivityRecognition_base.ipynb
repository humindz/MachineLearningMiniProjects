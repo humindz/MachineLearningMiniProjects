{
  "cells": [
    {
      "cell_type": "markdown",
      "metadata": {
        "id": "37puETfgRzzg"
      },
      "source": [
        "# Data Preprocessing Tools"
      ]
    },
    {
      "cell_type": "markdown",
      "metadata": {
        "id": "EoRP98MpR-qj"
      },
      "source": [
        "## Importing the libraries"
      ]
    },
    {
      "cell_type": "code",
      "execution_count": 1,
      "metadata": {
        "id": "PY0llxBZ28OF"
      },
      "outputs": [],
      "source": [
        "import pandas as pd\n",
        "import numpy as np\n",
        "import seaborn as sns\n",
        "import matplotlib.pyplot as plt\n",
        "%matplotlib inline\n",
        "import warnings\n",
        "warnings.filterwarnings(\"ignore\")"
      ]
    },
    {
      "cell_type": "markdown",
      "metadata": {
        "id": "RopL7tUZSQkT"
      },
      "source": [
        "## Importing the dataset"
      ]
    },
    {
      "cell_type": "code",
      "execution_count": 2,
      "metadata": {
        "id": "vJWnBOvZ3oaN"
      },
      "outputs": [],
      "source": [
        "train = pd.read_csv(\"dataset/train-1.csv\")\n",
        "test = pd.read_csv(\"dataset/test.csv\")\n",
        "train['Data'] = 'Train'\n",
        "test['Data'] = 'Test'\n",
        "both = pd.concat([train, test], axis=0).reset_index(drop=True)\n",
        "both['subject'] = '#' + both['subject'].astype(str)"
      ]
    },
    {
      "cell_type": "code",
      "execution_count": 13,
      "metadata": {
        "colab": {
          "base_uri": "https://localhost:8080/"
        },
        "id": "-1d8AOlM6Vk6",
        "outputId": "d8ca23cd-f2b0-4896-c2c0-e7af48318bf9"
      },
      "outputs": [
        {
          "name": "stdout",
          "output_type": "stream",
          "text": [
            "       tBodyAcc-mean()-X  tBodyAcc-mean()-Y  tBodyAcc-mean()-Z  \\\n",
            "0               0.288585          -0.020294          -0.132905   \n",
            "1               0.278419          -0.016411          -0.123520   \n",
            "2               0.279653          -0.019467          -0.113462   \n",
            "3               0.279174          -0.026201          -0.123283   \n",
            "4               0.276629          -0.016570          -0.115362   \n",
            "...                  ...                ...                ...   \n",
            "10294           0.310155          -0.053391          -0.099109   \n",
            "10295           0.363385          -0.039214          -0.105915   \n",
            "10296           0.349966           0.030077          -0.115788   \n",
            "10297           0.237594           0.018467          -0.096499   \n",
            "10298           0.153627          -0.018437          -0.137018   \n",
            "\n",
            "       tBodyAcc-std()-X  tBodyAcc-std()-Y  tBodyAcc-std()-Z  tBodyAcc-mad()-X  \\\n",
            "0             -0.995279         -0.983111         -0.913526         -0.995112   \n",
            "1             -0.998245         -0.975300         -0.960322         -0.998807   \n",
            "2             -0.995380         -0.967187         -0.978944         -0.996520   \n",
            "3             -0.996091         -0.983403         -0.990675         -0.997099   \n",
            "4             -0.998139         -0.980817         -0.990482         -0.998321   \n",
            "...                 ...               ...               ...               ...   \n",
            "10294         -0.287866         -0.140589         -0.215088         -0.356083   \n",
            "10295         -0.305388          0.028148         -0.196373         -0.373540   \n",
            "10296         -0.329638         -0.042143         -0.250181         -0.388017   \n",
            "10297         -0.323114         -0.229775         -0.207574         -0.392380   \n",
            "10298         -0.330046         -0.195253         -0.164339         -0.430974   \n",
            "\n",
            "       tBodyAcc-mad()-Y  tBodyAcc-mad()-Z  tBodyAcc-max()-X  ...  \\\n",
            "0             -0.983185         -0.923527         -0.934724  ...   \n",
            "1             -0.974914         -0.957686         -0.943068  ...   \n",
            "2             -0.963668         -0.977469         -0.938692  ...   \n",
            "3             -0.982750         -0.989302         -0.938692  ...   \n",
            "4             -0.979672         -0.990441         -0.942469  ...   \n",
            "...                 ...               ...               ...  ...   \n",
            "10294         -0.148775         -0.232057          0.185361  ...   \n",
            "10295         -0.030036         -0.270237          0.185361  ...   \n",
            "10296         -0.133257         -0.347029          0.007471  ...   \n",
            "10297         -0.279610         -0.289477          0.007471  ...   \n",
            "10298         -0.218295         -0.229933         -0.111527  ...   \n",
            "\n",
            "       angle(tBodyAccMean,gravity)  angle(tBodyAccJerkMean),gravityMean)  \\\n",
            "0                        -0.112754                              0.030400   \n",
            "1                         0.053477                             -0.007435   \n",
            "2                        -0.118559                              0.177899   \n",
            "3                        -0.036788                             -0.012892   \n",
            "4                         0.123320                              0.122542   \n",
            "...                            ...                                   ...   \n",
            "10294                    -0.337422                              0.346295   \n",
            "10295                    -0.736701                             -0.372889   \n",
            "10296                    -0.181560                              0.088574   \n",
            "10297                     0.444558                             -0.819188   \n",
            "10298                     0.598808                             -0.287951   \n",
            "\n",
            "       angle(tBodyGyroMean,gravityMean)  angle(tBodyGyroJerkMean,gravityMean)  \\\n",
            "0                             -0.464761                             -0.018446   \n",
            "1                             -0.732626                              0.703511   \n",
            "2                              0.100699                              0.808529   \n",
            "3                              0.640011                             -0.485366   \n",
            "4                              0.693578                             -0.615971   \n",
            "...                                 ...                                   ...   \n",
            "10294                          0.884904                             -0.698885   \n",
            "10295                         -0.657421                              0.322549   \n",
            "10296                          0.696663                              0.363139   \n",
            "10297                          0.929294                             -0.008398   \n",
            "10298                          0.876030                             -0.024965   \n",
            "\n",
            "       angle(X,gravityMean)  angle(Y,gravityMean)  angle(Z,gravityMean)  \\\n",
            "0                 -0.841247              0.179941             -0.058627   \n",
            "1                 -0.844788              0.180289             -0.054317   \n",
            "2                 -0.848933              0.180637             -0.049118   \n",
            "3                 -0.848649              0.181935             -0.047663   \n",
            "4                 -0.847865              0.185151             -0.043892   \n",
            "...                     ...                   ...                   ...   \n",
            "10294             -0.651732              0.274627              0.184784   \n",
            "10295             -0.655181              0.273578              0.182412   \n",
            "10296             -0.655357              0.274479              0.181184   \n",
            "10297             -0.659719              0.264782              0.187563   \n",
            "10298             -0.660080              0.263936              0.188103   \n",
            "\n",
            "       subject          Activity   Data  \n",
            "0           #1          STANDING  Train  \n",
            "1           #1          STANDING  Train  \n",
            "2           #1          STANDING  Train  \n",
            "3           #1          STANDING  Train  \n",
            "4           #1          STANDING  Train  \n",
            "...        ...               ...    ...  \n",
            "10294      #24  WALKING_UPSTAIRS   Test  \n",
            "10295      #24  WALKING_UPSTAIRS   Test  \n",
            "10296      #24  WALKING_UPSTAIRS   Test  \n",
            "10297      #24  WALKING_UPSTAIRS   Test  \n",
            "10298      #24  WALKING_UPSTAIRS   Test  \n",
            "\n",
            "[10299 rows x 564 columns]\n"
          ]
        }
      ],
      "source": [
        "print(both)"
      ]
    },
    {
      "cell_type": "code",
      "execution_count": null,
      "metadata": {
        "id": "YSf0VXF26Yn8"
      },
      "outputs": [],
      "source": [
        "print(test)"
      ]
    },
    {
      "cell_type": "markdown",
      "metadata": {
        "id": "nhfKXNxlSabC"
      },
      "source": [
        "## Taking care of missing data"
      ]
    },
    {
      "cell_type": "code",
      "execution_count": 3,
      "metadata": {
        "colab": {
          "base_uri": "https://localhost:8080/",
          "height": 423
        },
        "id": "UGqnQj32QKM5",
        "outputId": "55c69b76-81f4-4d0b-d451-b012c7ad07af"
      },
      "outputs": [
        {
          "data": {
            "text/html": [
              "<div>\n",
              "<style scoped>\n",
              "    .dataframe tbody tr th:only-of-type {\n",
              "        vertical-align: middle;\n",
              "    }\n",
              "\n",
              "    .dataframe tbody tr th {\n",
              "        vertical-align: top;\n",
              "    }\n",
              "\n",
              "    .dataframe thead th {\n",
              "        text-align: right;\n",
              "    }\n",
              "</style>\n",
              "<table border=\"1\" class=\"dataframe\">\n",
              "  <thead>\n",
              "    <tr style=\"text-align: right;\">\n",
              "      <th></th>\n",
              "      <th>Missing value</th>\n",
              "      <th>N unique value</th>\n",
              "      <th>dtype</th>\n",
              "    </tr>\n",
              "  </thead>\n",
              "  <tbody>\n",
              "    <tr>\n",
              "      <th>tBodyAcc-mean()-X</th>\n",
              "      <td>0</td>\n",
              "      <td>10292</td>\n",
              "      <td>float64</td>\n",
              "    </tr>\n",
              "    <tr>\n",
              "      <th>tBodyAcc-mean()-Y</th>\n",
              "      <td>0</td>\n",
              "      <td>10299</td>\n",
              "      <td>float64</td>\n",
              "    </tr>\n",
              "    <tr>\n",
              "      <th>tBodyAcc-mean()-Z</th>\n",
              "      <td>0</td>\n",
              "      <td>10293</td>\n",
              "      <td>float64</td>\n",
              "    </tr>\n",
              "    <tr>\n",
              "      <th>tBodyAcc-std()-X</th>\n",
              "      <td>0</td>\n",
              "      <td>10295</td>\n",
              "      <td>float64</td>\n",
              "    </tr>\n",
              "    <tr>\n",
              "      <th>tBodyAcc-std()-Y</th>\n",
              "      <td>0</td>\n",
              "      <td>10297</td>\n",
              "      <td>float64</td>\n",
              "    </tr>\n",
              "    <tr>\n",
              "      <th>...</th>\n",
              "      <td>...</td>\n",
              "      <td>...</td>\n",
              "      <td>...</td>\n",
              "    </tr>\n",
              "    <tr>\n",
              "      <th>angle(Y,gravityMean)</th>\n",
              "      <td>0</td>\n",
              "      <td>10299</td>\n",
              "      <td>float64</td>\n",
              "    </tr>\n",
              "    <tr>\n",
              "      <th>angle(Z,gravityMean)</th>\n",
              "      <td>0</td>\n",
              "      <td>10299</td>\n",
              "      <td>float64</td>\n",
              "    </tr>\n",
              "    <tr>\n",
              "      <th>subject</th>\n",
              "      <td>0</td>\n",
              "      <td>30</td>\n",
              "      <td>object</td>\n",
              "    </tr>\n",
              "    <tr>\n",
              "      <th>Activity</th>\n",
              "      <td>0</td>\n",
              "      <td>6</td>\n",
              "      <td>object</td>\n",
              "    </tr>\n",
              "    <tr>\n",
              "      <th>Data</th>\n",
              "      <td>0</td>\n",
              "      <td>2</td>\n",
              "      <td>object</td>\n",
              "    </tr>\n",
              "  </tbody>\n",
              "</table>\n",
              "<p>564 rows × 3 columns</p>\n",
              "</div>"
            ],
            "text/plain": [
              "                      Missing value  N unique value    dtype\n",
              "tBodyAcc-mean()-X                 0           10292  float64\n",
              "tBodyAcc-mean()-Y                 0           10299  float64\n",
              "tBodyAcc-mean()-Z                 0           10293  float64\n",
              "tBodyAcc-std()-X                  0           10295  float64\n",
              "tBodyAcc-std()-Y                  0           10297  float64\n",
              "...                             ...             ...      ...\n",
              "angle(Y,gravityMean)              0           10299  float64\n",
              "angle(Z,gravityMean)              0           10299  float64\n",
              "subject                           0              30   object\n",
              "Activity                          0               6   object\n",
              "Data                              0               2   object\n",
              "\n",
              "[564 rows x 3 columns]"
            ]
          },
          "execution_count": 3,
          "metadata": {},
          "output_type": "execute_result"
        }
      ],
      "source": [
        "def basic_details(df):\n",
        "    b = pd.DataFrame()\n",
        "    b['Missing value'] = df.isnull().sum()\n",
        "    b['N unique value'] = df.nunique()\n",
        "    b['dtype'] = df.dtypes\n",
        "    return b\n",
        "basic_details(both)"
      ]
    },
    {
      "cell_type": "code",
      "execution_count": 4,
      "metadata": {
        "colab": {
          "base_uri": "https://localhost:8080/",
          "height": 502
        },
        "id": "tmLmQN0UbKqi",
        "outputId": "9b83b42a-434f-4c98-ed8e-7f508e1a5bea"
      },
      "outputs": [
        {
          "data": {
            "text/plain": [
              "<BarContainer object of 6 artists>"
            ]
          },
          "execution_count": 4,
          "metadata": {},
          "output_type": "execute_result"
        },
        {
          "data": {
            "image/png": "[encoded data removed]",
            "text/plain": [
              "<Figure size 864x576 with 1 Axes>"
            ]
          },
          "metadata": {
            "needs_background": "light"
          },
          "output_type": "display_data"
        }
      ],
      "source": [
        "activity = both['Activity']\n",
        "label_counts = activity.value_counts()\n",
        "\n",
        "plt.figure(figsize= (12, 8))\n",
        "plt.bar(label_counts.index, label_counts)"
      ]
    },
    {
      "cell_type": "code",
      "execution_count": 18,
      "metadata": {
        "id": "HuSCQSn8bQ3h"
      },
      "outputs": [],
      "source": [
        "Data = both['Data']\n",
        "Subject = both['subject']\n",
        "train = both.copy()\n",
        "train = train.drop(['Data','subject','Activity'], axis =1)"
      ]
    },
    {
      "cell_type": "code",
      "execution_count": 15,
      "metadata": {
        "colab": {
          "base_uri": "https://localhost:8080/"
        },
        "id": "Fs78RRKIdCds",
        "outputId": "9893740a-b75a-4482-a348-3f74d1cf0e8b"
      },
      "outputs": [
        {
          "name": "stdout",
          "output_type": "stream",
          "text": [
            "       tBodyAcc-mean()-X  tBodyAcc-mean()-Y  tBodyAcc-mean()-Z  \\\n",
            "0               0.288585          -0.020294          -0.132905   \n",
            "1               0.278419          -0.016411          -0.123520   \n",
            "2               0.279653          -0.019467          -0.113462   \n",
            "3               0.279174          -0.026201          -0.123283   \n",
            "4               0.276629          -0.016570          -0.115362   \n",
            "...                  ...                ...                ...   \n",
            "10294           0.310155          -0.053391          -0.099109   \n",
            "10295           0.363385          -0.039214          -0.105915   \n",
            "10296           0.349966           0.030077          -0.115788   \n",
            "10297           0.237594           0.018467          -0.096499   \n",
            "10298           0.153627          -0.018437          -0.137018   \n",
            "\n",
            "       tBodyAcc-std()-X  tBodyAcc-std()-Y  tBodyAcc-std()-Z  tBodyAcc-mad()-X  \\\n",
            "0             -0.995279         -0.983111         -0.913526         -0.995112   \n",
            "1             -0.998245         -0.975300         -0.960322         -0.998807   \n",
            "2             -0.995380         -0.967187         -0.978944         -0.996520   \n",
            "3             -0.996091         -0.983403         -0.990675         -0.997099   \n",
            "4             -0.998139         -0.980817         -0.990482         -0.998321   \n",
            "...                 ...               ...               ...               ...   \n",
            "10294         -0.287866         -0.140589         -0.215088         -0.356083   \n",
            "10295         -0.305388          0.028148         -0.196373         -0.373540   \n",
            "10296         -0.329638         -0.042143         -0.250181         -0.388017   \n",
            "10297         -0.323114         -0.229775         -0.207574         -0.392380   \n",
            "10298         -0.330046         -0.195253         -0.164339         -0.430974   \n",
            "\n",
            "       tBodyAcc-mad()-Y  tBodyAcc-mad()-Z  tBodyAcc-max()-X  ...  \\\n",
            "0             -0.983185         -0.923527         -0.934724  ...   \n",
            "1             -0.974914         -0.957686         -0.943068  ...   \n",
            "2             -0.963668         -0.977469         -0.938692  ...   \n",
            "3             -0.982750         -0.989302         -0.938692  ...   \n",
            "4             -0.979672         -0.990441         -0.942469  ...   \n",
            "...                 ...               ...               ...  ...   \n",
            "10294         -0.148775         -0.232057          0.185361  ...   \n",
            "10295         -0.030036         -0.270237          0.185361  ...   \n",
            "10296         -0.133257         -0.347029          0.007471  ...   \n",
            "10297         -0.279610         -0.289477          0.007471  ...   \n",
            "10298         -0.218295         -0.229933         -0.111527  ...   \n",
            "\n",
            "       fBodyBodyGyroJerkMag-meanFreq()  fBodyBodyGyroJerkMag-skewness()  \\\n",
            "0                            -0.074323                        -0.298676   \n",
            "1                             0.158075                        -0.595051   \n",
            "2                             0.414503                        -0.390748   \n",
            "3                             0.404573                        -0.117290   \n",
            "4                             0.087753                        -0.351471   \n",
            "...                                ...                              ...   \n",
            "10294                         0.074472                        -0.376278   \n",
            "10295                         0.101859                        -0.320418   \n",
            "10296                        -0.066249                        -0.118854   \n",
            "10297                        -0.046467                        -0.205445   \n",
            "10298                        -0.010386                        -0.072237   \n",
            "\n",
            "       fBodyBodyGyroJerkMag-kurtosis()  angle(tBodyAccMean,gravity)  \\\n",
            "0                            -0.710304                    -0.112754   \n",
            "1                            -0.861499                     0.053477   \n",
            "2                            -0.760104                    -0.118559   \n",
            "3                            -0.482845                    -0.036788   \n",
            "4                            -0.699205                     0.123320   \n",
            "...                                ...                          ...   \n",
            "10294                        -0.750809                    -0.337422   \n",
            "10295                        -0.700274                    -0.736701   \n",
            "10296                        -0.467179                    -0.181560   \n",
            "10297                        -0.617737                     0.444558   \n",
            "10298                        -0.436940                     0.598808   \n",
            "\n",
            "       angle(tBodyAccJerkMean),gravityMean)  angle(tBodyGyroMean,gravityMean)  \\\n",
            "0                                  0.030400                         -0.464761   \n",
            "1                                 -0.007435                         -0.732626   \n",
            "2                                  0.177899                          0.100699   \n",
            "3                                 -0.012892                          0.640011   \n",
            "4                                  0.122542                          0.693578   \n",
            "...                                     ...                               ...   \n",
            "10294                              0.346295                          0.884904   \n",
            "10295                             -0.372889                         -0.657421   \n",
            "10296                              0.088574                          0.696663   \n",
            "10297                             -0.819188                          0.929294   \n",
            "10298                             -0.287951                          0.876030   \n",
            "\n",
            "       angle(tBodyGyroJerkMean,gravityMean)  angle(X,gravityMean)  \\\n",
            "0                                 -0.018446             -0.841247   \n",
            "1                                  0.703511             -0.844788   \n",
            "2                                  0.808529             -0.848933   \n",
            "3                                 -0.485366             -0.848649   \n",
            "4                                 -0.615971             -0.847865   \n",
            "...                                     ...                   ...   \n",
            "10294                             -0.698885             -0.651732   \n",
            "10295                              0.322549             -0.655181   \n",
            "10296                              0.363139             -0.655357   \n",
            "10297                             -0.008398             -0.659719   \n",
            "10298                             -0.024965             -0.660080   \n",
            "\n",
            "       angle(Y,gravityMean)  angle(Z,gravityMean)  \n",
            "0                  0.179941             -0.058627  \n",
            "1                  0.180289             -0.054317  \n",
            "2                  0.180637             -0.049118  \n",
            "3                  0.181935             -0.047663  \n",
            "4                  0.185151             -0.043892  \n",
            "...                     ...                   ...  \n",
            "10294              0.274627              0.184784  \n",
            "10295              0.273578              0.182412  \n",
            "10296              0.274479              0.181184  \n",
            "10297              0.264782              0.187563  \n",
            "10298              0.263936              0.188103  \n",
            "\n",
            "[10299 rows x 561 columns]\n"
          ]
        }
      ],
      "source": [
        "print(train)"
      ]
    },
    {
      "cell_type": "markdown",
      "metadata": {
        "id": "CriG6VzVSjcK"
      },
      "source": [
        "## Scaleing"
      ]
    },
    {
      "cell_type": "code",
      "execution_count": 19,
      "metadata": {
        "colab": {
          "base_uri": "https://localhost:8080/"
        },
        "id": "7P8L3lWdcCEr",
        "outputId": "4c0d5cda-9156-432e-ffc1-1fd83b95cca8"
      },
      "outputs": [
        {
          "name": "stdout",
          "output_type": "stream",
          "text": [
            "[[-16.38097982   1.99508306   3.41569012 ...  -3.41459306   3.1967869\n",
            "   -0.13181184]\n",
            " [-15.58217328   1.18259369  -0.32120677 ...   0.386067     1.4371357\n",
            "    0.33877641]\n",
            " [-15.42398918   2.24316643  -1.23778289 ...   0.93821058   0.28539422\n",
            "    0.3733551 ]\n",
            " ...\n",
            " [ 11.84685312  -3.43356502   2.18801844 ...  -0.06933441  -5.47368598\n",
            "    1.70788784]\n",
            " [  8.20668637  -4.38648876   1.31872016 ...   0.84653372  -3.56389836\n",
            "    1.18468468]\n",
            " [  9.31117251  -3.98616133   1.93301777 ...   0.54046841  -1.21256127\n",
            "    0.80621837]]\n",
            "20\n"
          ]
        }
      ],
      "source": [
        "# Standard Scaler\n",
        "from sklearn.preprocessing import StandardScaler\n",
        "slc = StandardScaler()\n",
        "train = slc.fit_transform(train)\n",
        "\n",
        "# dimensionality reduction\n",
        "from sklearn.decomposition import PCA\n",
        "pca = PCA(n_components=20, random_state=0)\n",
        "train = pca.fit_transform(train)\n",
        "\n",
        "print(train)\n",
        "print(len(train[0]))"
      ]
    },
    {
      "cell_type": "markdown",
      "metadata": {
        "id": "qb_vcgm3qZKW"
      },
      "source": [
        "## Splitting the dataset into the Training set and Test set"
      ]
    },
    {
      "cell_type": "code",
      "execution_count": 21,
      "metadata": {
        "id": "NClKFgYJfvPW"
      },
      "outputs": [],
      "source": [
        "from sklearn.model_selection import train_test_split\n",
        "X_train, X_test, y_train, y_test = train_test_split(train, activity, test_size = 0.2, random_state = 0)"
      ]
    },
    {
      "cell_type": "markdown",
      "metadata": {
        "id": "4TpMQOHYoK6A"
      },
      "source": [
        "# Activity Recognition Algorithm"
      ]
    },
    {
      "cell_type": "code",
      "execution_count": 22,
      "metadata": {
        "colab": {
          "base_uri": "https://localhost:8080/",
          "height": 523
        },
        "id": "iFZlb0WGoFuD",
        "outputId": "e333d242-750e-422c-de0f-6f7be18395c0"
      },
      "outputs": [
        {
          "name": "stdout",
          "output_type": "stream",
          "text": [
            "                    precision    recall  f1-score   support\n",
            "\n",
            "            LAYING       0.98      0.96      0.97       377\n",
            "           SITTING       0.81      0.77      0.79       364\n",
            "          STANDING       0.81      0.87      0.84       390\n",
            "           WALKING       0.93      0.98      0.95       335\n",
            "WALKING_DOWNSTAIRS       0.98      0.91      0.94       278\n",
            "  WALKING_UPSTAIRS       0.96      0.97      0.96       316\n",
            "\n",
            "          accuracy                           0.91      2060\n",
            "         macro avg       0.91      0.91      0.91      2060\n",
            "      weighted avg       0.91      0.91      0.91      2060\n",
            "\n"
          ]
        },
        {
          "data": {
            "text/plain": [
              "<AxesSubplot:>"
            ]
          },
          "execution_count": 22,
          "metadata": {},
          "output_type": "execute_result"
        },
        {
          "data": {
            "image/png": "[encoded data removed]",
            "text/plain": [
              "<Figure size 432x288 with 2 Axes>"
            ]
          },
          "metadata": {
            "needs_background": "light"
          },
          "output_type": "display_data"
        }
      ],
      "source": [
        "# Test options and evaluation metric\n",
        "num_folds = 10\n",
        "seed = 0\n",
        "scoring = 'accuracy'\n",
        "results = {}\n",
        "accuracy = {}\n",
        "\n",
        "# Finalizing the model and comparing the test, predict results\n",
        "from sklearn.metrics import confusion_matrix, accuracy_score, classification_report\n",
        "from sklearn.model_selection import KFold, cross_val_score\n",
        "\n",
        "\n",
        "from sklearn.neighbors import KNeighborsClassifier\n",
        "model = KNeighborsClassifier(algorithm= 'auto', n_neighbors= 8, p= 1, weights= 'distance')\n",
        "\n",
        "_ = cross_val_score(model, X_train, y_train, cv=10, scoring=scoring)\n",
        "results[\"GScv\"] = (_.mean(), _.std())\n",
        "\n",
        "model.fit(X_train, y_train) \n",
        "y_predict = model.predict(X_test)\n",
        "\n",
        "accuracy[\"GScv\"] = accuracy_score(y_test, y_predict)\n",
        "\n",
        "print(classification_report(y_test, y_predict))\n",
        "\n",
        "cm= confusion_matrix(y_test, y_predict)\n",
        "sns.heatmap(cm, annot=True)"
      ]
    }
  ],
  "metadata": {
    "colab": {
      "provenance": []
    },
    "kernelspec": {
      "display_name": "Python 3",
      "language": "python",
      "name": "python3"
    },
    "language_info": {
      "codemirror_mode": {
        "name": "ipython",
        "version": 3
      },
      "file_extension": ".py",
      "mimetype": "text/x-python",
      "name": "python",
      "nbconvert_exporter": "python",
      "pygments_lexer": "ipython3",
      "version": "3.9.12"
    },
    "vscode": {
      "interpreter": {
        "hash": "ffb21c7f50ccbdd9cabeaacb722f478577479649672a627763d22c6e44daa1fc"
      }
    }
  },
  "nbformat": 4,
  "nbformat_minor": 0
}
